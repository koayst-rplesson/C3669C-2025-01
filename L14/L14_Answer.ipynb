{
  "cells": [
    {
      "cell_type": "markdown",
      "id": "256d3948",
      "metadata": {
        "id": "256d3948"
      },
      "source": [
        "<img src=\"https://www.rp.edu.sg/images/default-source/default-album/rp-logo.png\" width=\"200\" alt=\"Republic Polytechnic\"/>\n",
        "\n",
        "[![Open in Colab](https://colab.research.google.com/assets/colab-badge.svg)](https://colab.research.google.com/github/koayst-rplesson/C3669C-2025-01/blob/main/L14/L14_Answer.ipynb)"
      ]
    },
    {
      "cell_type": "markdown",
      "id": "85e80164-bf97-4962-b425-7864a154dcaf",
      "metadata": {
        "id": "85e80164-bf97-4962-b425-7864a154dcaf"
      },
      "source": [
        "# Setup and Installation\n",
        "\n",
        "You can run this Jupyter notebook either on your local machine or run it at Google Colab (preferred).\n",
        "\n",
        "* For local machine, it is recommended to install Anaconda and create a new development environment called `c3669c`.\n",
        "* Pip/Conda install the libraries stated below when necessary.\n",
        "---"
      ]
    },
    {
      "cell_type": "markdown",
      "id": "15d6f4c2-8506-415c-a295-041ee40d9eda",
      "metadata": {
        "id": "15d6f4c2-8506-415c-a295-041ee40d9eda"
      },
      "source": [
        "# <font color='red'>ATTENTION</font>\n",
        "\n",
        "## Google Colab\n",
        "- If you are running this code in Google Colab, **DO NOT** store the API Key in a text file and load the key later from Google Drive. This is insecure and will expose the key.\n",
        "- **DO NOT** hard code the API Key directly in the Python code, even though it might seem convenient for quick development.\n",
        "- You need to enter the API key at Python code `getpass.getpass()` when ask.\n",
        "\n",
        "## Local Environment/Laptop\n",
        "- If you are running this code locally in your laptop, you can create a env.txt and store the API key there.\n",
        "- Make sure env.txt is in the same directory of this Jupyter notebook.\n",
        "- You need to install `python-dotenv` and run the Python code to load in the API key.\n",
        "\n",
        "---\n",
        "```\n",
        "%pip install python-dotenv\n",
        "\n",
        "from dotenv import load_dotenv\n",
        "\n",
        "load_dotenv('env.tx')\n",
        "openai_api_key = os.getenv('OPENAI_API_KEY')\n",
        "```\n",
        "---\n",
        "\n",
        "## GitHub/GitLab\n",
        "- **DO NOT** `commit` or `push` API Key to services like GitHub or GitLab.\n",
        "\n",
        "## Tip\n",
        "The output from LangChain/LangGraph is a complex data structure and can be difficult to read/understand. Use [Python Formatter](https://codebeautify.org/python-formatter-beautifier) to format the output for easy reading."
      ]
    },
    {
      "cell_type": "markdown",
      "id": "0c79ed1d-cc1e-4712-93ce-695496907dd7",
      "metadata": {
        "id": "0c79ed1d-cc1e-4712-93ce-695496907dd7"
      },
      "source": [
        "# Lesson 14"
      ]
    },
    {
      "cell_type": "code",
      "execution_count": 1,
      "id": "91a344c6-9289-4351-9677-8e7f778c7859",
      "metadata": {
        "id": "91a344c6-9289-4351-9677-8e7f778c7859"
      },
      "outputs": [],
      "source": [
        "%%capture --no-stderr\n",
        "%pip install --quiet -U langchain\n",
        "%pip install --quiet -U langgraph\n",
        "%pip install --quiet -U langchain-openai\n",
        "%pip install --quiet -U langchain-community\n",
        "%pip install --quiet -U grandalf"
      ]
    },
    {
      "cell_type": "code",
      "execution_count": null,
      "id": "933f2767-9f87-48e8-b1b7-c0b952d2cdfa",
      "metadata": {
        "id": "933f2767-9f87-48e8-b1b7-c0b952d2cdfa"
      },
      "outputs": [],
      "source": [
        "# langchain              0.3.11\n",
        "# langgraph              0.2.59\n",
        "# langchain-core         0.3.24\n",
        "# langchain-openai       0.2.12\n",
        "# langchain-community    0.3.12\n",
        "# openai                 1.57.2\n",
        "# pydantic               2.10.3"
      ]
    },
    {
      "cell_type": "code",
      "execution_count": 2,
      "id": "c7281bdb-a238-4cad-abac-6679aa169ace",
      "metadata": {
        "id": "c7281bdb-a238-4cad-abac-6679aa169ace",
        "outputId": "f610dcad-9e36-49db-d8b6-811fd13158f0",
        "colab": {
          "base_uri": "https://localhost:8080/"
        }
      },
      "outputs": [
        {
          "name": "stdout",
          "output_type": "stream",
          "text": [
            "··········\n"
          ]
        }
      ],
      "source": [
        "import getpass\n",
        "import os\n",
        "\n",
        "# setup the OpenAI API Key\n",
        "\n",
        "# get OpenAI API key ready and enter it when ask\n",
        "os.environ[\"OPENAI_API_KEY\"] = getpass.getpass()"
      ]
    },
    {
      "cell_type": "markdown",
      "id": "3bc02a79-8283-4235-b570-c813d51bff91",
      "metadata": {
        "id": "3bc02a79-8283-4235-b570-c813d51bff91"
      },
      "source": [
        "## LangGraph\n",
        "\n",
        "LangGraph is an abstraction or framework designed to model workflows, processes, or computations as directed graphs. It is often used in systems that require structured and modular workflows, particularly in natural language processing (NLP), AI pipelines, or decision-making applications.\n",
        "\n",
        "In a LangGraph-style architecture, nodes represent individual tasks or operations, and edges define the flow of information between these tasks.  Every node is a function. Each node in the graph encapsulates a specific piece of functionality. It takes an input, performs a computation or action and produces an output.\n",
        "\n",
        "Edge as data flow. The connections between nodes represent the flow of data or the results from one function to the next."
      ]
    },
    {
      "cell_type": "markdown",
      "id": "47c858a1-d480-4869-be01-a06c2f077b78",
      "metadata": {
        "id": "47c858a1-d480-4869-be01-a06c2f077b78"
      },
      "source": [
        "## Basic Chatbot\n",
        "\n",
        "Let's build a basic chatbot.\n",
        "\n",
        "References: [LangGraph Quick Start ](https://langchain-ai.github.io/langgraph/tutorials/introduction/#setup), [LangChain Academy](https://academy.langchain.com/)</br></br>\n",
        "This chatbot will respond directly to user message. Though simple, it will illustrate the core concepts of building with LangGraph.\n",
        "\n",
        "Start by creating a `StateGraph` that defines the \"state\" machine of the chatbot.  `Node` representing the LLM is added and `edges` to specify how the bot should transition between these functions."
      ]
    },
    {
      "cell_type": "code",
      "execution_count": 3,
      "id": "f7af928c-135a-41b3-a6d6-35c0853afb19",
      "metadata": {
        "id": "f7af928c-135a-41b3-a6d6-35c0853afb19"
      },
      "outputs": [],
      "source": [
        "from typing import Annotated\n",
        "from typing_extensions import TypedDict\n",
        "\n",
        "from langchain_core.messages import AnyMessage\n",
        "\n",
        "from langgraph.graph import StateGraph, START, END\n",
        "from langgraph.graph.message import add_messages\n",
        "\n",
        "from langchain_openai import ChatOpenAI\n",
        "from langchain_core.prompts.chat import ChatPromptTemplate"
      ]
    },
    {
      "cell_type": "code",
      "execution_count": 4,
      "id": "19b8b32b-c064-4b19-88db-579b10ddb4f9",
      "metadata": {
        "id": "19b8b32b-c064-4b19-88db-579b10ddb4f9"
      },
      "outputs": [],
      "source": [
        "class State(TypedDict):\n",
        "    # Messages have the type \"list\". The `add_messages` function\n",
        "    # in the annotation defines how this state key should be updated\n",
        "    # (in this case, it appends messages to the list, rather than overwriting them)\n",
        "    #\n",
        "    # pre-built 'add_message' is also known as 'reducer'\n",
        "    # reducer allows us to specify how stat updates are performed\n",
        "    messages: Annotated[list[AnyMessage], add_messages]"
      ]
    },
    {
      "cell_type": "code",
      "execution_count": 5,
      "id": "2643bc42-a928-4fbb-94e9-47005d0f876f",
      "metadata": {
        "id": "2643bc42-a928-4fbb-94e9-47005d0f876f"
      },
      "outputs": [],
      "source": [
        "# initialise the graph\n",
        "\n",
        "graph_builder = StateGraph(State)"
      ]
    },
    {
      "cell_type": "code",
      "execution_count": 6,
      "id": "0dab754e-4c7c-4e43-bd8a-32ff54d89d5b",
      "metadata": {
        "id": "0dab754e-4c7c-4e43-bd8a-32ff54d89d5b"
      },
      "outputs": [],
      "source": [
        "# setup the LLM model\n",
        "\n",
        "model = ChatOpenAI(\n",
        "    model = 'gpt-4o-mini',\n",
        "    temperature = 0\n",
        ")"
      ]
    },
    {
      "cell_type": "markdown",
      "id": "2d40d87a-a35f-4714-b5a4-e0cded9db7c3",
      "metadata": {
        "id": "2d40d87a-a35f-4714-b5a4-e0cded9db7c3"
      },
      "source": [
        "### Create the 'chatbot' node"
      ]
    },
    {
      "cell_type": "code",
      "execution_count": 7,
      "id": "db53c9c1-4b9f-475b-84b8-f6dc8d2248df",
      "metadata": {
        "id": "db53c9c1-4b9f-475b-84b8-f6dc8d2248df"
      },
      "outputs": [],
      "source": [
        "# notice how the chatbot node function takes the current State as input and returns a dictionary containing an updated\n",
        "# messages list under the key \"messages\". This is the basic pattern for all LangGraph node functions.\n",
        "\n",
        "def chatbot(state: State):\n",
        "    return {\n",
        "        'messages' : [model.invoke(state['messages'])]\n",
        "    }"
      ]
    },
    {
      "cell_type": "markdown",
      "id": "5505f22c-ea22-412c-8f83-1dc31a9ee0e9",
      "metadata": {
        "id": "5505f22c-ea22-412c-8f83-1dc31a9ee0e9"
      },
      "source": [
        "### Add 'chatbot' node to graph"
      ]
    },
    {
      "cell_type": "code",
      "execution_count": 8,
      "id": "8e2a45ef-ebe9-4d33-909b-ba68b1e25e8e",
      "metadata": {
        "id": "8e2a45ef-ebe9-4d33-909b-ba68b1e25e8e",
        "outputId": "320d4fb4-b433-4cdf-ab01-b706fe3e6990",
        "colab": {
          "base_uri": "https://localhost:8080/"
        }
      },
      "outputs": [
        {
          "output_type": "execute_result",
          "data": {
            "text/plain": [
              "<langgraph.graph.state.StateGraph at 0x7c089c452290>"
            ]
          },
          "metadata": {},
          "execution_count": 8
        }
      ],
      "source": [
        "# the first argument is the unique node name\n",
        "# the second argument is the function or object that will be called whenever the node is used\n",
        "\n",
        "graph_builder.add_node(\"chatbot\", chatbot)"
      ]
    },
    {
      "cell_type": "markdown",
      "id": "719f8962-d782-4541-8be9-88e4f5da033c",
      "metadata": {
        "id": "719f8962-d782-4541-8be9-88e4f5da033c"
      },
      "source": [
        "### Connect 'START' node to 'chatbot' node"
      ]
    },
    {
      "cell_type": "code",
      "execution_count": 9,
      "id": "a8c2647f-c215-48e2-8a48-179a15622d68",
      "metadata": {
        "id": "a8c2647f-c215-48e2-8a48-179a15622d68",
        "outputId": "d8132171-0971-48de-ce84-124dea64155f",
        "colab": {
          "base_uri": "https://localhost:8080/"
        }
      },
      "outputs": [
        {
          "output_type": "execute_result",
          "data": {
            "text/plain": [
              "<langgraph.graph.state.StateGraph at 0x7c089c452290>"
            ]
          },
          "metadata": {},
          "execution_count": 9
        }
      ],
      "source": [
        "graph_builder.add_edge(START, 'chatbot')"
      ]
    },
    {
      "cell_type": "markdown",
      "id": "5fd81643-8431-4df0-b9f7-f45eaa2cc417",
      "metadata": {
        "id": "5fd81643-8431-4df0-b9f7-f45eaa2cc417"
      },
      "source": [
        "### Connect 'chatbot' node to 'END' node"
      ]
    },
    {
      "cell_type": "code",
      "execution_count": 10,
      "id": "0a04404b-79d5-4da7-893f-b595167984da",
      "metadata": {
        "id": "0a04404b-79d5-4da7-893f-b595167984da",
        "outputId": "54faa811-1b28-4073-f7de-e264d8cb449e",
        "colab": {
          "base_uri": "https://localhost:8080/"
        }
      },
      "outputs": [
        {
          "output_type": "execute_result",
          "data": {
            "text/plain": [
              "<langgraph.graph.state.StateGraph at 0x7c089c452290>"
            ]
          },
          "metadata": {},
          "execution_count": 10
        }
      ],
      "source": [
        "graph_builder.add_edge(\"chatbot\", END)"
      ]
    },
    {
      "cell_type": "markdown",
      "id": "be2c86cc-9308-49e0-9c0d-60475e56c222",
      "metadata": {
        "id": "be2c86cc-9308-49e0-9c0d-60475e56c222"
      },
      "source": [
        "### Build the graph"
      ]
    },
    {
      "cell_type": "code",
      "execution_count": 11,
      "id": "ddd88ef6-c4ae-4f13-a3ee-1eaa42b66e50",
      "metadata": {
        "id": "ddd88ef6-c4ae-4f13-a3ee-1eaa42b66e50"
      },
      "outputs": [],
      "source": [
        "graph = graph_builder.compile()"
      ]
    },
    {
      "cell_type": "markdown",
      "id": "2482848a-ea36-4687-844b-2bb70e2b7beb",
      "metadata": {
        "id": "2482848a-ea36-4687-844b-2bb70e2b7beb"
      },
      "source": [
        "### Display the graph"
      ]
    },
    {
      "cell_type": "code",
      "execution_count": 12,
      "id": "cdae66e7-2243-4ab4-b8d5-580210f099f0",
      "metadata": {
        "id": "cdae66e7-2243-4ab4-b8d5-580210f099f0",
        "outputId": "f165c963-aa27-4ac9-faee-6cbf9405b4fc",
        "colab": {
          "base_uri": "https://localhost:8080/",
          "height": 251
        }
      },
      "outputs": [
        {
          "output_type": "display_data",
          "data": {
            "image/png": "[encoded data removed]",
            "text/plain": [
              "<IPython.core.display.Image object>"
            ]
          },
          "metadata": {}
        }
      ],
      "source": [
        "from IPython.display import Image, display\n",
        "\n",
        "def drawGraph(graph):\n",
        "    try:\n",
        "        display(Image(graph.get_graph().draw_mermaid_png()))\n",
        "    except Exception:\n",
        "        # This requires some extra dependencies and is optional\n",
        "        pass\n",
        "\n",
        "# visualise the graph as a Mermaid diagram\n",
        "drawGraph(graph)\n",
        "\n",
        "# notice in the diagram, the arrow is a solid line\n",
        "# dotted line denotes conditional edges"
      ]
    },
    {
      "cell_type": "markdown",
      "id": "b8597eba-d55d-4402-a7c9-23e5fbc9c7b2",
      "metadata": {
        "id": "b8597eba-d55d-4402-a7c9-23e5fbc9c7b2"
      },
      "source": [
        "### Run the chatbot"
      ]
    },
    {
      "cell_type": "code",
      "execution_count": 13,
      "id": "ef46e396-0ad7-4682-a387-5255a84c3a8f",
      "metadata": {
        "id": "ef46e396-0ad7-4682-a387-5255a84c3a8f"
      },
      "outputs": [],
      "source": [
        "def stream_graph_updates(user_input: str):\n",
        "    for event in graph.stream({\"messages\": [(\"user\", user_input)]}):\n",
        "        for value in event.values():\n",
        "            print(\"Assistant:\", value[\"messages\"][-1].content)\n",
        "        print()"
      ]
    },
    {
      "cell_type": "code",
      "execution_count": 14,
      "id": "390fd3c7-5806-4091-9d9a-f08c9ce6fba5",
      "metadata": {
        "id": "390fd3c7-5806-4091-9d9a-f08c9ce6fba5",
        "outputId": "1c2bda8d-109b-43c8-fcb1-2b7732edf6ef",
        "colab": {
          "base_uri": "https://localhost:8080/"
        }
      },
      "outputs": [
        {
          "output_type": "stream",
          "name": "stdout",
          "text": [
            "User: What is quantum computing?\n",
            "Assistant: Quantum computing is a type of computation that takes advantage of the principles of quantum mechanics to process information in fundamentally different ways than classical computers. While classical computers use bits as the smallest unit of data, which can be either 0 or 1, quantum computers use quantum bits, or qubits. Qubits can exist in multiple states simultaneously due to a property called superposition, allowing them to represent both 0 and 1 at the same time.\n",
            "\n",
            "In addition to superposition, quantum computing also leverages another quantum phenomenon called entanglement, where the state of one qubit can be dependent on the state of another, no matter the distance between them. This allows quantum computers to perform complex calculations more efficiently than classical computers for certain types of problems.\n",
            "\n",
            "Quantum computers have the potential to solve problems that are currently intractable for classical computers, such as factoring large numbers (which has implications for cryptography), simulating quantum systems (important for materials science and drug discovery), and optimizing complex systems.\n",
            "\n",
            "However, quantum computing is still in its early stages of development, with many technical challenges to overcome, including error correction and qubit coherence. Researchers are actively working on building practical quantum computers and developing algorithms that can take advantage of their unique capabilities.\n",
            "\n",
            "User: exit\n",
            "Goodbye!\n"
          ]
        }
      ],
      "source": [
        "while True:\n",
        "    try:\n",
        "        user_input = input(\"User: \")\n",
        "        if user_input.lower() in [\"quit\", \"exit\", \"q\"]:\n",
        "            print(\"Goodbye!\")\n",
        "            break\n",
        "\n",
        "        stream_graph_updates(user_input)\n",
        "    except:\n",
        "        # fallback if input() is not available\n",
        "        user_input = \"What do you know about LangGraph?\"\n",
        "        print(\"User: \" + user_input)\n",
        "        stream_graph_updates(user_input)\n",
        "        break\n",
        "\n",
        "# Inputs:\n",
        "# 1.  User: What is quantum computing?\n",
        "# 2.  User: exit"
      ]
    },
    {
      "cell_type": "markdown",
      "id": "435f758d-133e-4143-8f79-63050dfa4af8",
      "metadata": {
        "id": "435f758d-133e-4143-8f79-63050dfa4af8"
      },
      "source": [
        "---"
      ]
    },
    {
      "cell_type": "markdown",
      "id": "c87c6e47-994e-4c3b-8cfb-86b442b4a6c0",
      "metadata": {
        "id": "c87c6e47-994e-4c3b-8cfb-86b442b4a6c0"
      },
      "source": [
        "## Tools\n",
        "\n",
        "Tools are useful whenever you want a model to interact with external systems.</br>\n",
        "\n",
        "In order for the chatbot to handle queries not \"from memory\", we need to integrate a web search tool. The bot will use Tavily Search to find the relevant information and provide better responses."
      ]
    },
    {
      "cell_type": "code",
      "execution_count": 15,
      "id": "968aac2f-d740-494c-a118-bc75855918f8",
      "metadata": {
        "id": "968aac2f-d740-494c-a118-bc75855918f8"
      },
      "outputs": [],
      "source": [
        "from typing import Annotated\n",
        "\n",
        "from langchain_core.messages.human import HumanMessage\n",
        "\n",
        "from langgraph.graph.message import add_messages\n",
        "from langgraph.graph import MessagesState\n",
        "\n",
        "from langgraph.graph import StateGraph, START, END"
      ]
    },
    {
      "cell_type": "markdown",
      "id": "6542df74-183d-4ac0-9bff-913bb1751d48",
      "metadata": {
        "id": "6542df74-183d-4ac0-9bff-913bb1751d48"
      },
      "source": [
        "The code pattern for MessagesState when we want to appends messages to the list, rather than overwriting them is:\n",
        "\n",
        "```\n",
        "class MessagesState(TypedDict):\n",
        "    messages: Annotated[list[AnyMessage], add_messages]\n",
        "```\n",
        "\n",
        "Since having a list of messages in graph state is so common, `LangGraph` has a pre-built `MessageState` as shown in the class definition `MessagesState`. ↓"
      ]
    },
    {
      "cell_type": "code",
      "execution_count": 16,
      "id": "ea2c7925-5796-4c32-a9e4-c56f94371c2a",
      "metadata": {
        "id": "ea2c7925-5796-4c32-a9e4-c56f94371c2a"
      },
      "outputs": [],
      "source": [
        "class MessagesState(MessagesState):\n",
        "    # add any keys needed beyond messages, which is pre-built\n",
        "    pass"
      ]
    },
    {
      "cell_type": "markdown",
      "id": "a9daeaa8-95ca-4369-9577-460c8a54a943",
      "metadata": {
        "id": "a9daeaa8-95ca-4369-9577-460c8a54a943"
      },
      "source": [
        "### A Simple Example of Tool Calling"
      ]
    },
    {
      "cell_type": "code",
      "execution_count": 17,
      "id": "d9ec4f33-82ae-45cd-a261-0d579729822b",
      "metadata": {
        "id": "d9ec4f33-82ae-45cd-a261-0d579729822b"
      },
      "outputs": [],
      "source": [
        "from langchain_openai import ChatOpenAI\n",
        "from langchain_core.messages.human import HumanMessage"
      ]
    },
    {
      "cell_type": "code",
      "execution_count": 18,
      "id": "76f169d0-26b8-4857-9130-9fb19a43ea11",
      "metadata": {
        "id": "76f169d0-26b8-4857-9130-9fb19a43ea11"
      },
      "outputs": [],
      "source": [
        "def multiply(a: int, b: int) -> int:\n",
        "    \"\"\"Multiply a and b\n",
        "\n",
        "    Args:\n",
        "    a: first int\n",
        "    b: second int\n",
        "    \"\"\"\n",
        "    return a * b"
      ]
    },
    {
      "cell_type": "code",
      "execution_count": 19,
      "id": "b9939c56-762c-4167-a99c-360e1ed67800",
      "metadata": {
        "id": "b9939c56-762c-4167-a99c-360e1ed67800"
      },
      "outputs": [],
      "source": [
        "model = ChatOpenAI(\n",
        "    model = 'gpt-4o-mini',\n",
        "    temperature = 0\n",
        ")"
      ]
    },
    {
      "cell_type": "code",
      "execution_count": 20,
      "id": "be332ffc-3569-4563-a8d5-014ba982f3b6",
      "metadata": {
        "id": "be332ffc-3569-4563-a8d5-014ba982f3b6"
      },
      "outputs": [],
      "source": [
        "# notice you call bind_tools using a list\n",
        "# that's mean you can add in more than one tool into the list\n",
        "\n",
        "model_with_tools = model.bind_tools([multiply])"
      ]
    },
    {
      "cell_type": "code",
      "execution_count": 21,
      "id": "e552e84f-b7bc-4a96-b0a8-ee807b2263ce",
      "metadata": {
        "id": "e552e84f-b7bc-4a96-b0a8-ee807b2263ce",
        "outputId": "f58d7d6f-f610-4ed8-9520-002c6ba97ab9",
        "colab": {
          "base_uri": "https://localhost:8080/"
        }
      },
      "outputs": [
        {
          "output_type": "stream",
          "name": "stdout",
          "text": [
            "32\n"
          ]
        }
      ],
      "source": [
        "# let's test the tool\n",
        "messages = model_with_tools.invoke(\n",
        "    [HumanMessage(content=f\"What is 4 multiplied by 8?\")]\n",
        ")\n",
        "\n",
        "tool = {'multiply' : multiply}[messages.tool_calls[0]['name'].lower()]\n",
        "print(tool(**(messages.tool_calls[0]['args'])))"
      ]
    },
    {
      "cell_type": "markdown",
      "id": "4bfda45c-d020-4f83-b7ec-060ec5b9d55e",
      "metadata": {
        "id": "4bfda45c-d020-4f83-b7ec-060ec5b9d55e"
      },
      "source": [
        "---"
      ]
    },
    {
      "cell_type": "markdown",
      "id": "0ec528b8-2975-46a9-8401-5a4f5b406d56",
      "metadata": {
        "id": "0ec528b8-2975-46a9-8401-5a4f5b406d56"
      },
      "source": [
        "### Use `MessagesState` with a Graph"
      ]
    },
    {
      "cell_type": "code",
      "execution_count": 22,
      "id": "f4e63243-7c76-448a-92b7-498b95063fd3",
      "metadata": {
        "id": "f4e63243-7c76-448a-92b7-498b95063fd3"
      },
      "outputs": [],
      "source": [
        "from langgraph.prebuilt import ToolNode, tools_condition\n",
        "from langgraph.graph import MessagesState\n",
        "from langgraph.graph import StateGraph, START, END\n",
        "\n",
        "from langchain_openai import ChatOpenAI\n",
        "from langchain_core.messages import HumanMessage"
      ]
    },
    {
      "cell_type": "code",
      "execution_count": 23,
      "id": "299bc4ac-fe30-4b03-b4de-680056c6d050",
      "metadata": {
        "id": "299bc4ac-fe30-4b03-b4de-680056c6d050"
      },
      "outputs": [],
      "source": [
        "def multiply(a: int, b: int) -> int:\n",
        "    \"\"\"Multiply a and b\n",
        "\n",
        "    Args:\n",
        "    a: first int\n",
        "    b: second int\n",
        "    \"\"\"\n",
        "    return a * b"
      ]
    },
    {
      "cell_type": "code",
      "execution_count": 24,
      "id": "6a6f2aa9-4b2b-4b4b-95e6-f0d2941bcaeb",
      "metadata": {
        "id": "6a6f2aa9-4b2b-4b4b-95e6-f0d2941bcaeb"
      },
      "outputs": [],
      "source": [
        "model = ChatOpenAI(\n",
        "    model = 'gpt-4o-mini',\n",
        "    temperature = 0\n",
        ")\n",
        "\n",
        "model_with_tools = model.bind_tools([multiply])"
      ]
    },
    {
      "cell_type": "code",
      "execution_count": 25,
      "id": "f1b97381-97ef-4831-af6b-8fe6a8fc5e59",
      "metadata": {
        "id": "f1b97381-97ef-4831-af6b-8fe6a8fc5e59"
      },
      "outputs": [],
      "source": [
        "def tool_calling_model(state: MessagesState):\n",
        "    response = {\"messages\" : [model_with_tools.invoke(state['messages'])]}\n",
        "    print(f\">>> tool_calling_model: {response}\\n\")\n",
        "\n",
        "    return response"
      ]
    },
    {
      "cell_type": "code",
      "execution_count": 26,
      "id": "b03495cb-992f-4628-be9e-3aac22743cec",
      "metadata": {
        "id": "b03495cb-992f-4628-be9e-3aac22743cec",
        "outputId": "c2e03b19-1d61-4858-8b9c-3d27d18b52b9",
        "colab": {
          "base_uri": "https://localhost:8080/"
        }
      },
      "outputs": [
        {
          "output_type": "stream",
          "name": "stdout",
          "text": [
            "Help on function tools_condition in module langgraph.prebuilt.tool_node:\n",
            "\n",
            "tools_condition(state: Union[list[Annotated[Union[Annotated[langchain_core.messages.ai.AIMessage, Tag(tag='ai')], Annotated[langchain_core.messages.human.HumanMessage, Tag(tag='human')], Annotated[langchain_core.messages.chat.ChatMessage, Tag(tag='chat')], Annotated[langchain_core.messages.system.SystemMessage, Tag(tag='system')], Annotated[langchain_core.messages.function.FunctionMessage, Tag(tag='function')], Annotated[langchain_core.messages.tool.ToolMessage, Tag(tag='tool')], Annotated[langchain_core.messages.ai.AIMessageChunk, Tag(tag='AIMessageChunk')], Annotated[langchain_core.messages.human.HumanMessageChunk, Tag(tag='HumanMessageChunk')], Annotated[langchain_core.messages.chat.ChatMessageChunk, Tag(tag='ChatMessageChunk')], Annotated[langchain_core.messages.system.SystemMessageChunk, Tag(tag='SystemMessageChunk')], Annotated[langchain_core.messages.function.FunctionMessageChunk, Tag(tag='FunctionMessageChunk')], Annotated[langchain_core.messages.tool.ToolMessageChunk, Tag(tag='ToolMessageChunk')]], FieldInfo(annotation=NoneType, required=True, discriminator=Discriminator(discriminator=<function _get_type at 0x7c08b5fe40e0>, custom_error_type=None, custom_error_message=None, custom_error_context=None))]], dict[str, Any], pydantic.main.BaseModel], messages_key: str = 'messages') -> Literal['tools', '__end__']\n",
            "    Use in the conditional_edge to route to the ToolNode if the last message\n",
            "    \n",
            "    has tool calls. Otherwise, route to the end.\n",
            "    \n",
            "    Args:\n",
            "        state (Union[list[AnyMessage], dict[str, Any], BaseModel]): The state to check for\n",
            "            tool calls. Must have a list of messages (MessageGraph) or have the\n",
            "            \"messages\" key (StateGraph).\n",
            "    \n",
            "    Returns:\n",
            "        The next node to route to.\n",
            "    \n",
            "    \n",
            "    Examples:\n",
            "        Create a custom ReAct-style agent with tools.\n",
            "    \n",
            "        ```pycon\n",
            "        >>> from langchain_anthropic import ChatAnthropic\n",
            "        >>> from langchain_core.tools import tool\n",
            "        ...\n",
            "        >>> from langgraph.graph import StateGraph\n",
            "        >>> from langgraph.prebuilt import ToolNode, tools_condition\n",
            "        >>> from langgraph.graph.message import add_messages\n",
            "        ...\n",
            "        >>> from typing import Annotated\n",
            "        >>> from typing_extensions import TypedDict\n",
            "        ...\n",
            "        >>> @tool\n",
            "        >>> def divide(a: float, b: float) -> int:\n",
            "        ...     \"\"\"Return a / b.\"\"\"\n",
            "        ...     return a / b\n",
            "        ...\n",
            "        >>> llm = ChatAnthropic(model=\"claude-3-haiku-20240307\")\n",
            "        >>> tools = [divide]\n",
            "        ...\n",
            "        >>> class State(TypedDict):\n",
            "        ...     messages: Annotated[list, add_messages]\n",
            "        >>>\n",
            "        >>> graph_builder = StateGraph(State)\n",
            "        >>> graph_builder.add_node(\"tools\", ToolNode(tools))\n",
            "        >>> graph_builder.add_node(\"chatbot\", lambda state: {\"messages\":llm.bind_tools(tools).invoke(state['messages'])})\n",
            "        >>> graph_builder.add_edge(\"tools\", \"chatbot\")\n",
            "        >>> graph_builder.add_conditional_edges(\n",
            "        ...     \"chatbot\", tools_condition\n",
            "        ... )\n",
            "        >>> graph_builder.set_entry_point(\"chatbot\")\n",
            "        >>> graph = graph_builder.compile()\n",
            "        >>> graph.invoke({\"messages\": {\"role\": \"user\", \"content\": \"What's 329993 divided by 13662?\"}})\n",
            "        ```\n",
            "\n"
          ]
        }
      ],
      "source": [
        "help(tools_condition)\n",
        "\n",
        "# accordingly, tools_condition is a perbuilt tool that \"Use in the conditional_edge to route to the ToolNode\n",
        "# if the last message has tool calls. Otherwise, route to the end"
      ]
    },
    {
      "cell_type": "code",
      "execution_count": 27,
      "id": "3e65b03b-509a-4564-ac9c-148e199f5554",
      "metadata": {
        "id": "3e65b03b-509a-4564-ac9c-148e199f5554"
      },
      "outputs": [],
      "source": [
        "# Build Graph\n",
        "\n",
        "graph_builder = StateGraph(MessagesState)\n",
        "\n",
        "graph_builder.add_node('tool_calling_model', tool_calling_model)\n",
        "graph_builder.add_node('tools', ToolNode([multiply]))\n",
        "\n",
        "graph_builder.add_edge(START, 'tool_calling_model')\n",
        "\n",
        "graph_builder.add_conditional_edges(\n",
        "    \"tool_calling_model\",\n",
        "    tools_condition\n",
        ")\n",
        "\n",
        "graph_builder.add_edge('tools', END)\n",
        "\n",
        "graph = graph_builder.compile()\n",
        "\n",
        "# 1. START is connected to 'tool_calling_model'\n",
        "# 2. 'tool_calling_model' is connected to 'tool_condition'\n",
        "# 3. When 'tool_calling_model' is passed a user request, it will return a response indicating tool calls is requested or not\n",
        "# 4. 'tool_condition' will route to 'tools' (ToolNode) to perform \"multiply\" if there is tool call else to END\n",
        "# 5. 'tools' is connected to END"
      ]
    },
    {
      "cell_type": "code",
      "execution_count": 28,
      "id": "7b8d56b8-6e5b-4283-812c-80eccbda9066",
      "metadata": {
        "id": "7b8d56b8-6e5b-4283-812c-80eccbda9066",
        "outputId": "3dd09541-3ad3-4697-d85b-94593e2dcb7c",
        "colab": {
          "base_uri": "https://localhost:8080/",
          "height": 350
        }
      },
      "outputs": [
        {
          "output_type": "display_data",
          "data": {
            "image/png": "[encoded data removed]",
            "text/plain": [
              "<IPython.core.display.Image object>"
            ]
          },
          "metadata": {}
        }
      ],
      "source": [
        "# View Graph\n",
        "drawGraph(graph)"
      ]
    },
    {
      "cell_type": "code",
      "execution_count": 29,
      "id": "d224cec8-be70-40a4-b9aa-f3a236db7c6e",
      "metadata": {
        "id": "d224cec8-be70-40a4-b9aa-f3a236db7c6e",
        "outputId": "ff13f24a-4862-4a58-8064-69d52781e1d2",
        "colab": {
          "base_uri": "https://localhost:8080/"
        }
      },
      "outputs": [
        {
          "output_type": "stream",
          "name": "stdout",
          "text": [
            "Help on method add_conditional_edges in module langgraph.graph.state:\n",
            "\n",
            "add_conditional_edges(source: str, path: Union[Callable[..., Union[collections.abc.Hashable, list[collections.abc.Hashable]]], Callable[..., collections.abc.Awaitable[Union[collections.abc.Hashable, list[collections.abc.Hashable]]]], langchain_core.runnables.base.Runnable[Any, Union[collections.abc.Hashable, list[collections.abc.Hashable]]]], path_map: Union[dict[collections.abc.Hashable, str], list[str], NoneType] = None, then: Optional[str] = None) -> Self method of langgraph.graph.state.StateGraph instance\n",
            "    Add a conditional edge from the starting node to any number of destination nodes.\n",
            "    \n",
            "    Args:\n",
            "        source: The starting node. This conditional edge will run when\n",
            "            exiting this node.\n",
            "        path: The callable that determines the next\n",
            "            node or nodes. If not specifying `path_map` it should return one or\n",
            "            more nodes. If it returns END, the graph will stop execution.\n",
            "        path_map: Optional mapping of paths to node\n",
            "            names. If omitted the paths returned by `path` should be node names.\n",
            "        then: The name of a node to execute after the nodes\n",
            "            selected by `path`.\n",
            "    \n",
            "    Returns:\n",
            "        Self: The instance of the graph, allowing for method chaining.\n",
            "    \n",
            "    Note: Without typehints on the `path` function's return value (e.g., `-> Literal[\"foo\", \"__end__\"]:`)\n",
            "        or a path_map, the graph visualization assumes the edge could transition to any node in the graph.\n",
            "\n"
          ]
        }
      ],
      "source": [
        "help(graph_builder.add_conditional_edges)"
      ]
    },
    {
      "cell_type": "code",
      "execution_count": 30,
      "id": "4dbf79ff-4333-4631-b49a-f808aaaa3f3e",
      "metadata": {
        "id": "4dbf79ff-4333-4631-b49a-f808aaaa3f3e",
        "outputId": "4bf91e4f-5d65-4b7a-f7db-0df70afe3ab1",
        "colab": {
          "base_uri": "https://localhost:8080/"
        }
      },
      "outputs": [
        {
          "output_type": "stream",
          "name": "stdout",
          "text": [
            ">>> tool_calling_model: {'messages': [AIMessage(content='Hello! How can I assist you today?', additional_kwargs={'refusal': None}, response_metadata={'token_usage': {'completion_tokens': 11, 'prompt_tokens': 54, 'total_tokens': 65, 'completion_tokens_details': {'accepted_prediction_tokens': 0, 'audio_tokens': 0, 'reasoning_tokens': 0, 'rejected_prediction_tokens': 0}, 'prompt_tokens_details': {'audio_tokens': 0, 'cached_tokens': 0}}, 'model_name': 'gpt-4o-mini-2024-07-18', 'system_fingerprint': 'fp_0392822090', 'id': 'chatcmpl-BX7XOz7h0Bc1e2LvFkGkjY1cn9umh', 'service_tier': 'default', 'finish_reason': 'stop', 'logprobs': None}, id='run--f23889e9-6f89-405b-aa9b-b5a3a9d208a2-0', usage_metadata={'input_tokens': 54, 'output_tokens': 11, 'total_tokens': 65, 'input_token_details': {'audio': 0, 'cache_read': 0}, 'output_token_details': {'audio': 0, 'reasoning': 0}})]}\n",
            "\n",
            "================================\u001b[1m Human Message \u001b[0m=================================\n",
            "\n",
            "Hello World\n",
            "==================================\u001b[1m Ai Message \u001b[0m==================================\n",
            "\n",
            "Hello! How can I assist you today?\n"
          ]
        }
      ],
      "source": [
        "# execute the graph with message 'Hello World'\n",
        "\n",
        "messages = graph.invoke({\"messages\" : HumanMessage(content = \"Hello World\")})\n",
        "for m in messages['messages']:\n",
        "    m.pretty_print()"
      ]
    },
    {
      "cell_type": "code",
      "execution_count": 31,
      "id": "436c3b0f-0f2f-41d3-96fe-d5b29a2d8927",
      "metadata": {
        "id": "436c3b0f-0f2f-41d3-96fe-d5b29a2d8927",
        "outputId": "1b60bc97-5ba9-4717-d201-df6de7e0e390",
        "colab": {
          "base_uri": "https://localhost:8080/"
        }
      },
      "outputs": [
        {
          "output_type": "stream",
          "name": "stdout",
          "text": [
            ">>> tool_calling_model: {'messages': [AIMessage(content='', additional_kwargs={'tool_calls': [{'id': 'call_xh9NxaWK0m0KX8QUac3aGXwy', 'function': {'arguments': '{\"a\":4,\"b\":8}', 'name': 'multiply'}, 'type': 'function'}], 'refusal': None}, response_metadata={'token_usage': {'completion_tokens': 18, 'prompt_tokens': 61, 'total_tokens': 79, 'completion_tokens_details': {'accepted_prediction_tokens': 0, 'audio_tokens': 0, 'reasoning_tokens': 0, 'rejected_prediction_tokens': 0}, 'prompt_tokens_details': {'audio_tokens': 0, 'cached_tokens': 0}}, 'model_name': 'gpt-4o-mini-2024-07-18', 'system_fingerprint': 'fp_0392822090', 'id': 'chatcmpl-BX7XPStG3rxNN2EFXD0SdwyeiPBVP', 'service_tier': 'default', 'finish_reason': 'tool_calls', 'logprobs': None}, id='run--99381f52-9e79-4110-998d-509a13dceb02-0', tool_calls=[{'name': 'multiply', 'args': {'a': 4, 'b': 8}, 'id': 'call_xh9NxaWK0m0KX8QUac3aGXwy', 'type': 'tool_call'}], usage_metadata={'input_tokens': 61, 'output_tokens': 18, 'total_tokens': 79, 'input_token_details': {'audio': 0, 'cache_read': 0}, 'output_token_details': {'audio': 0, 'reasoning': 0}})]}\n",
            "\n",
            "================================\u001b[1m Human Message \u001b[0m=================================\n",
            "\n",
            "What is 4 multiplied by 8?\n",
            "==================================\u001b[1m Ai Message \u001b[0m==================================\n",
            "Tool Calls:\n",
            "  multiply (call_xh9NxaWK0m0KX8QUac3aGXwy)\n",
            " Call ID: call_xh9NxaWK0m0KX8QUac3aGXwy\n",
            "  Args:\n",
            "    a: 4\n",
            "    b: 8\n",
            "=================================\u001b[1m Tool Message \u001b[0m=================================\n",
            "Name: multiply\n",
            "\n",
            "32\n"
          ]
        }
      ],
      "source": [
        "# execute the graph with message 'Multiply 4 and 8'\n",
        "\n",
        "messages = graph.invoke({\"messages\" : HumanMessage(content = \"What is 4 multiplied by 8?\")})\n",
        "for m in messages['messages']:\n",
        "    m.pretty_print()\n",
        "\n",
        "# notice in 'additional_kwargs`, there is a 'tool_calls' ↓"
      ]
    },
    {
      "cell_type": "markdown",
      "id": "75239a75-4e42-4c4f-a031-86fa63b191ce",
      "metadata": {
        "id": "75239a75-4e42-4c4f-a031-86fa63b191ce"
      },
      "source": [
        "---"
      ]
    },
    {
      "cell_type": "markdown",
      "id": "181f6564-9dc3-4714-93ae-0dc39d28cf9c",
      "metadata": {
        "id": "181f6564-9dc3-4714-93ae-0dc39d28cf9c"
      },
      "source": [
        "## Agent\n",
        "An agent is an autonomous entity that can execute tasks, interact with various components, and make decisions based on the given instructions or data.\n",
        "\n",
        "- Agents can perform tasks independently, such as querying data, executing code, or interacting with APIs\n",
        "- An agent typically works to achieve a specific objective, such as answering a question, processing input, or generating content\n",
        "- Based on the data they receive and the rules they're programmed with, agents can decide on the next steps in a workflow\n",
        "\n",
        "You have just encountered a generic 'agent' using a 'router'. Next we are going to build a 'ReAct' agent.  ReAct (short for Reasoning + Acting) is a paradigm designed to enable Large Language Models (LLMs) to perform tasks that require multi-step reasoning and interaction with external tools or environments\n",
        "\n",
        "- act - let the model call specific tools\n",
        "- feedback - pass the tool output back to the model\n",
        "- reason - the model reasons from the tool output and decide what to do next"
      ]
    },
    {
      "cell_type": "code",
      "execution_count": 32,
      "id": "7e7c7051-fb0d-45bd-bccb-dd786857f57e",
      "metadata": {
        "id": "7e7c7051-fb0d-45bd-bccb-dd786857f57e"
      },
      "outputs": [],
      "source": [
        "from langgraph.graph import MessagesState\n",
        "\n",
        "from langchain_core.messages import HumanMessage, SystemMessage\n",
        "from langchain_openai import ChatOpenAI\n",
        "\n",
        "from langgraph.prebuilt import ToolNode, tools_condition\n",
        "from langgraph.graph import MessagesState\n",
        "from langgraph.graph import StateGraph, START, END\n",
        "\n",
        "from IPython.display import Image, display\n",
        "\n",
        "import random"
      ]
    },
    {
      "cell_type": "code",
      "execution_count": 33,
      "id": "30e46c58-7b24-4401-8870-f0e35bfa42dd",
      "metadata": {
        "id": "30e46c58-7b24-4401-8870-f0e35bfa42dd"
      },
      "outputs": [],
      "source": [
        "# define the nodes function\n",
        "\n",
        "def multiply(a : int, b: int) -> int:\n",
        "    \"\"\"\n",
        "    Multiply a and b\n",
        "    Args:\n",
        "       a: first int\n",
        "       b: second int\n",
        "    \"\"\"\n",
        "    return a * b\n",
        "\n",
        "def add (a: int, b: int) -> int:\n",
        "    \"\"\"\n",
        "    Add a and b\n",
        "    Args:\n",
        "       a: first int\n",
        "       b: second int\n",
        "    \"\"\"\n",
        "    return a + b\n",
        "\n",
        "def divide(a: int, b: int) -> float:\n",
        "    \"\"\"\n",
        "    Divide a and b\n",
        "    Args:\n",
        "       a: first int\n",
        "       b: second int\n",
        "    \"\"\"\n",
        "    return a / b"
      ]
    },
    {
      "cell_type": "code",
      "execution_count": 34,
      "id": "74b642e2-e62d-49f4-aae8-3bed5aea4e6c",
      "metadata": {
        "id": "74b642e2-e62d-49f4-aae8-3bed5aea4e6c"
      },
      "outputs": [],
      "source": [
        "model = ChatOpenAI(\n",
        "    model = 'gpt-4o-mini'\n",
        ")\n",
        "\n",
        "arithmetic_tools = [add, multiply, divide]\n",
        "model_with_tools = model.bind_tools(arithmetic_tools)\n",
        "\n",
        "# system message\n",
        "sys_msg = SystemMessage(\n",
        "    content=\"You are a helful assistant tasked with performing arithmetic operations.\"\n",
        ")\n",
        "\n",
        "# helpful assistant node\n",
        "def assistant(state: MessagesState):\n",
        "    return {\"messages\" : [model_with_tools.invoke([sys_msg] + state['messages'])]}"
      ]
    },
    {
      "cell_type": "code",
      "execution_count": 35,
      "id": "ffe55c05-3b86-42d4-9c10-e4f25fbd02dc",
      "metadata": {
        "id": "ffe55c05-3b86-42d4-9c10-e4f25fbd02dc",
        "outputId": "7e6cc60c-74dc-4c25-f9f8-7c5887512167",
        "colab": {
          "base_uri": "https://localhost:8080/",
          "height": 266
        }
      },
      "outputs": [
        {
          "output_type": "display_data",
          "data": {
            "image/png": "[encoded data removed]",
            "text/plain": [
              "<IPython.core.display.Image object>"
            ]
          },
          "metadata": {}
        }
      ],
      "source": [
        "# build graph\n",
        "\n",
        "graph_builder = StateGraph(MessagesState)\n",
        "\n",
        "graph_builder.add_node('assistant', assistant)\n",
        "graph_builder.add_node('tools', ToolNode(arithmetic_tools))\n",
        "\n",
        "graph_builder.add_edge(START, 'assistant')\n",
        "graph_builder.add_conditional_edges(\n",
        "    'assistant',\n",
        "    tools_condition\n",
        ")\n",
        "\n",
        "graph_builder.add_edge('tools', 'assistant')\n",
        "react_graph = graph_builder.compile()\n",
        "\n",
        "# show graph\n",
        "# notice there is not explicit connection from 'assistant' to end\n",
        "# remember from documentation of 'add_conditional_edges':\n",
        "# Use in the conditional_edge to route to the ToolNode if the last message has tool calls. Otherwise, route to the end.\n",
        "\n",
        "drawGraph(react_graph)"
      ]
    },
    {
      "cell_type": "code",
      "execution_count": 36,
      "id": "00c0bb25-c9b3-4d79-be19-52e469877f28",
      "metadata": {
        "id": "00c0bb25-c9b3-4d79-be19-52e469877f28",
        "outputId": "af4adcad-5fda-4119-bb8e-52fe89fd8083",
        "colab": {
          "base_uri": "https://localhost:8080/"
        }
      },
      "outputs": [
        {
          "output_type": "stream",
          "name": "stdout",
          "text": [
            "================================\u001b[1m Human Message \u001b[0m=================================\n",
            "\n",
            "Add 3 and 4. Multiply the output by 2. Divide the output by 5\n",
            "==================================\u001b[1m Ai Message \u001b[0m==================================\n",
            "Tool Calls:\n",
            "  add (call_ebINoVrc0dJk52Lw0y74mgf9)\n",
            " Call ID: call_ebINoVrc0dJk52Lw0y74mgf9\n",
            "  Args:\n",
            "    a: 3\n",
            "    b: 4\n",
            "  multiply (call_yXdvhqSQMSEWIbhTh2FMXAm5)\n",
            " Call ID: call_yXdvhqSQMSEWIbhTh2FMXAm5\n",
            "  Args:\n",
            "    a: 2\n",
            "    b: 0\n",
            "  divide (call_aJa49SxH196QhbpgEjAWMavA)\n",
            " Call ID: call_aJa49SxH196QhbpgEjAWMavA\n",
            "  Args:\n",
            "    a: 0\n",
            "    b: 5\n",
            "=================================\u001b[1m Tool Message \u001b[0m=================================\n",
            "Name: add\n",
            "\n",
            "7\n",
            "=================================\u001b[1m Tool Message \u001b[0m=================================\n",
            "Name: multiply\n",
            "\n",
            "0\n",
            "=================================\u001b[1m Tool Message \u001b[0m=================================\n",
            "Name: divide\n",
            "\n",
            "0.0\n",
            "==================================\u001b[1m Ai Message \u001b[0m==================================\n",
            "Tool Calls:\n",
            "  add (call_xmCU9hQy55NGDpBx9RcfSS8d)\n",
            " Call ID: call_xmCU9hQy55NGDpBx9RcfSS8d\n",
            "  Args:\n",
            "    a: 3\n",
            "    b: 4\n",
            "  multiply (call_DKvWS5IwM6r1ugWItXM3GdFQ)\n",
            " Call ID: call_DKvWS5IwM6r1ugWItXM3GdFQ\n",
            "  Args:\n",
            "    a: 2\n",
            "    b: 7\n",
            "=================================\u001b[1m Tool Message \u001b[0m=================================\n",
            "Name: add\n",
            "\n",
            "7\n",
            "=================================\u001b[1m Tool Message \u001b[0m=================================\n",
            "Name: multiply\n",
            "\n",
            "14\n",
            "==================================\u001b[1m Ai Message \u001b[0m==================================\n",
            "Tool Calls:\n",
            "  divide (call_I2nEyTpOGDeAYdqZMCmFMESX)\n",
            " Call ID: call_I2nEyTpOGDeAYdqZMCmFMESX\n",
            "  Args:\n",
            "    a: 14\n",
            "    b: 5\n",
            "=================================\u001b[1m Tool Message \u001b[0m=================================\n",
            "Name: divide\n",
            "\n",
            "2.8\n",
            "==================================\u001b[1m Ai Message \u001b[0m==================================\n",
            "\n",
            "The results of your calculations are as follows:\n",
            "\n",
            "1. Adding 3 and 4 gives you **7**.\n",
            "2. Multiplying the result (7) by 2 gives you **14**.\n",
            "3. Dividing 14 by 5 gives you **2.8**. \n",
            "\n",
            "So, the final answer is **2.8**.\n"
          ]
        }
      ],
      "source": [
        "test_msg = [HumanMessage(content='Add 3 and 4. Multiply the output by 2. Divide the output by 5')]\n",
        "test_msg = react_graph.invoke({'messages' : test_msg})\n",
        "\n",
        "for m in test_msg['messages']:\n",
        "    m.pretty_print()"
      ]
    },
    {
      "cell_type": "markdown",
      "id": "052b52cc-7cd0-455b-a700-65d6a0639852",
      "metadata": {
        "id": "052b52cc-7cd0-455b-a700-65d6a0639852"
      },
      "source": [
        "---"
      ]
    },
    {
      "cell_type": "markdown",
      "id": "080c09d8-e2c4-4efe-94ba-1ce29b59b8fe",
      "metadata": {
        "id": "080c09d8-e2c4-4efe-94ba-1ce29b59b8fe"
      },
      "source": [
        "## Breakpoint And Human-In-Loop (HIL)\n",
        "Breakpoints provide a simple way to stop the graph at a specific step to seek human approval before proceeding. Breakpoints are a common pattern in Human-In-Loop interaction."
      ]
    },
    {
      "cell_type": "code",
      "execution_count": 37,
      "id": "51d87162-9c3e-4f84-ab1b-7c7b6b895977",
      "metadata": {
        "id": "51d87162-9c3e-4f84-ab1b-7c7b6b895977"
      },
      "outputs": [],
      "source": [
        "from langgraph.graph import MessagesState\n",
        "\n",
        "from langchain_core.messages import HumanMessage, SystemMessage\n",
        "from langchain_openai import ChatOpenAI\n",
        "\n",
        "from langgraph.prebuilt import ToolNode, tools_condition\n",
        "from langgraph.graph import MessagesState\n",
        "from langgraph.graph import StateGraph, START, END\n",
        "from langgraph.checkpoint.memory import MemorySaver\n",
        "\n",
        "from IPython.display import Image, display\n",
        "\n",
        "import random"
      ]
    },
    {
      "cell_type": "code",
      "execution_count": 38,
      "id": "14d33a50-fffc-4137-9ddf-151e540f6d5d",
      "metadata": {
        "id": "14d33a50-fffc-4137-9ddf-151e540f6d5d"
      },
      "outputs": [],
      "source": [
        "# define the nodes function\n",
        "\n",
        "def multiply(a : int, b: int) -> int:\n",
        "    \"\"\"\n",
        "    Multiply a and b\n",
        "    Args:\n",
        "       a: first int\n",
        "       b: second int\n",
        "    \"\"\"\n",
        "    return a * b\n",
        "\n",
        "def add (a: int, b: int) -> int:\n",
        "    \"\"\"\n",
        "    Add a and b\n",
        "    Args:\n",
        "       a: first int\n",
        "       b: second int\n",
        "    \"\"\"\n",
        "    return a + b\n",
        "\n",
        "def divide(a: int, b: int) -> float:\n",
        "    \"\"\"\n",
        "    Divide a and b\n",
        "    Args:\n",
        "       a: first int\n",
        "       b: second int\n",
        "    \"\"\"\n",
        "    return a / b"
      ]
    },
    {
      "cell_type": "code",
      "execution_count": 39,
      "id": "3c9c6d03-2330-41b6-b678-6dbca7b3140d",
      "metadata": {
        "id": "3c9c6d03-2330-41b6-b678-6dbca7b3140d"
      },
      "outputs": [],
      "source": [
        "model = ChatOpenAI(\n",
        "    model = 'gpt-4o-mini'\n",
        ")\n",
        "\n",
        "arithmetic_tools = [add, multiply, divide]\n",
        "model_with_tools = model.bind_tools(arithmetic_tools)\n",
        "\n",
        "# system message\n",
        "sys_msg = SystemMessage(\n",
        "    content=\"You are a helful assistant tasked with performing arithmetic operations.\"\n",
        ")\n",
        "\n",
        "# helpful assistant node\n",
        "def assistant(state: MessagesState):\n",
        "    return {\"messages\" : [model_with_tools.invoke([sys_msg] + state['messages'])]}"
      ]
    },
    {
      "cell_type": "code",
      "execution_count": 40,
      "id": "91f53128-7412-4dfc-8db4-de07cc7eb0d1",
      "metadata": {
        "id": "91f53128-7412-4dfc-8db4-de07cc7eb0d1",
        "outputId": "c6bc3297-ed26-4b8d-db34-129a491d7810",
        "colab": {
          "base_uri": "https://localhost:8080/",
          "height": 308
        }
      },
      "outputs": [
        {
          "output_type": "display_data",
          "data": {
            "image/png": "[encoded data removed]",
            "text/plain": [
              "<IPython.core.display.Image object>"
            ]
          },
          "metadata": {}
        }
      ],
      "source": [
        "# build graph\n",
        "\n",
        "graph_builder = StateGraph(MessagesState)\n",
        "\n",
        "graph_builder.add_node('assistant', assistant)\n",
        "graph_builder.add_node('tools', ToolNode(arithmetic_tools))\n",
        "\n",
        "graph_builder.add_edge(START, 'assistant')\n",
        "graph_builder.add_conditional_edges(\n",
        "    'assistant',\n",
        "    tools_condition\n",
        ")\n",
        "\n",
        "graph_builder.add_edge('tools', 'assistant')\n",
        "\n",
        "# set up memory\n",
        "memory = MemorySaver()\n",
        "\n",
        "# execution will be interrupted befoe the 'tools' node\n",
        "breakpoint_graph = graph_builder.compile(interrupt_before=['tools'], checkpointer=memory)\n",
        "\n",
        "# show graph\n",
        "# notice there is not explicit connection from 'assistant' to end\n",
        "# remember from documentation of 'add_conditional_edges':\n",
        "# Use in the conditional_edge to route to the ToolNode if the last message has tool calls. Otherwise, route to the end.\n",
        "\n",
        "drawGraph(breakpoint_graph)"
      ]
    },
    {
      "cell_type": "code",
      "execution_count": 41,
      "id": "b4d19298-2633-46e0-927c-82a83162274c",
      "metadata": {
        "id": "b4d19298-2633-46e0-927c-82a83162274c",
        "outputId": "237ed1d8-aed1-44f1-eead-1f75027efec2",
        "colab": {
          "base_uri": "https://localhost:8080/"
        }
      },
      "outputs": [
        {
          "output_type": "stream",
          "name": "stdout",
          "text": [
            "================================\u001b[1m Human Message \u001b[0m=================================\n",
            "\n",
            "Add 3 and 4. Multiply the output by 2. Divide the output by 5.\n",
            "==================================\u001b[1m Ai Message \u001b[0m==================================\n",
            "Tool Calls:\n",
            "  add (call_yodQ8gZzD9KX8dZDWrOnMhzW)\n",
            " Call ID: call_yodQ8gZzD9KX8dZDWrOnMhzW\n",
            "  Args:\n",
            "    a: 3\n",
            "    b: 4\n",
            "Do you want to continue (yes/no):yes\n",
            "==================================\u001b[1m Ai Message \u001b[0m==================================\n",
            "Tool Calls:\n",
            "  add (call_yodQ8gZzD9KX8dZDWrOnMhzW)\n",
            " Call ID: call_yodQ8gZzD9KX8dZDWrOnMhzW\n",
            "  Args:\n",
            "    a: 3\n",
            "    b: 4\n",
            "=================================\u001b[1m Tool Message \u001b[0m=================================\n",
            "Name: add\n",
            "\n",
            "7\n",
            "==================================\u001b[1m Ai Message \u001b[0m==================================\n",
            "Tool Calls:\n",
            "  multiply (call_RnCSqlnWeRY6mQX7bOe7hJBe)\n",
            " Call ID: call_RnCSqlnWeRY6mQX7bOe7hJBe\n",
            "  Args:\n",
            "    a: 7\n",
            "    b: 2\n",
            "  divide (call_h6lBjteQpYqe5WBazxRX6P1L)\n",
            " Call ID: call_h6lBjteQpYqe5WBazxRX6P1L\n",
            "  Args:\n",
            "    a: 7\n",
            "    b: 5\n",
            "Do you want to continue (yes/no):yes\n",
            "==================================\u001b[1m Ai Message \u001b[0m==================================\n",
            "Tool Calls:\n",
            "  multiply (call_RnCSqlnWeRY6mQX7bOe7hJBe)\n",
            " Call ID: call_RnCSqlnWeRY6mQX7bOe7hJBe\n",
            "  Args:\n",
            "    a: 7\n",
            "    b: 2\n",
            "  divide (call_h6lBjteQpYqe5WBazxRX6P1L)\n",
            " Call ID: call_h6lBjteQpYqe5WBazxRX6P1L\n",
            "  Args:\n",
            "    a: 7\n",
            "    b: 5\n",
            "=================================\u001b[1m Tool Message \u001b[0m=================================\n",
            "Name: divide\n",
            "\n",
            "1.4\n",
            "==================================\u001b[1m Ai Message \u001b[0m==================================\n",
            "\n",
            "The result of adding 3 and 4 is 7. \n",
            "\n",
            "Then, multiplying that result by 2 gives 14. \n",
            "\n",
            "Dividing the original sum (7) by 5 gives 1.4.\n"
          ]
        }
      ],
      "source": [
        "thread = {\"configurable\": {\"thread_id\" : str(random.randint(1, 100))}}\n",
        "\n",
        "# Input\n",
        "initial_input = {\"messages\": \"Add 3 and 4. Multiply the output by 2. Divide the output by 5.\"}\n",
        "\n",
        "# Run the graph until the first interruption\n",
        "for event in breakpoint_graph.stream(initial_input, thread, stream_mode=\"values\"):\n",
        "    event['messages'][-1].pretty_print()\n",
        "\n",
        "user_approval = input(\"Do you want to continue (yes/no):\")\n",
        "\n",
        "while (user_approval.lower() == 'yes'):\n",
        "    for event in breakpoint_graph.stream(None, thread, stream_mode=\"values\"):\n",
        "        event['messages'][-1].pretty_print()\n",
        "\n",
        "    # if there is no more node to run, stop the execution\n",
        "    # you can comment out thee code to observe the execution flow\n",
        "    # it will keep running the last operation\n",
        "    if len(breakpoint_graph.get_state(thread).next) == 0:\n",
        "        break\n",
        "\n",
        "    user_approval = input(\"Do you want to continue (yes/no):\")\n",
        "    if user_approval.lower() != 'yes':\n",
        "        print(\"Operation cancelled by user.\")\n",
        "        break\n",
        "\n",
        "# Inputs:\n",
        "# Do you want to continue (yes/no):yes\n",
        "# Do you want to continue (yes/no):yes"
      ]
    },
    {
      "cell_type": "markdown",
      "id": "db04ff6b-16f5-49ce-922f-c433e1b919f2",
      "metadata": {
        "id": "db04ff6b-16f5-49ce-922f-c433e1b919f2"
      },
      "source": [
        "## Editing Graph State\n",
        "Earlier, we interrupt the graph and allow user to accept an action or not. Now we are going to modify the state. Breakpoints are also opportunities to modify the graph state."
      ]
    },
    {
      "cell_type": "code",
      "execution_count": 42,
      "id": "9594463e-9a71-4ec7-83c1-a935529dc4ea",
      "metadata": {
        "id": "9594463e-9a71-4ec7-83c1-a935529dc4ea"
      },
      "outputs": [],
      "source": [
        "from langgraph.graph import MessagesState\n",
        "\n",
        "from langchain_core.messages import HumanMessage, SystemMessage\n",
        "from langchain_openai import ChatOpenAI\n",
        "\n",
        "from langgraph.prebuilt import ToolNode, tools_condition\n",
        "from langgraph.graph import MessagesState\n",
        "from langgraph.graph import StateGraph, START, END\n",
        "from langgraph.checkpoint.memory import MemorySaver\n",
        "\n",
        "from IPython.display import Image, display\n",
        "\n",
        "import random"
      ]
    },
    {
      "cell_type": "code",
      "execution_count": 43,
      "id": "04a63c4d-f5d3-4dd4-9a4a-ed7a9fe62b6c",
      "metadata": {
        "id": "04a63c4d-f5d3-4dd4-9a4a-ed7a9fe62b6c"
      },
      "outputs": [],
      "source": [
        "# define the nodes function\n",
        "\n",
        "def multiply(a : int, b: int) -> int:\n",
        "    \"\"\"\n",
        "    Multiply a and b\n",
        "    Args:\n",
        "       a: first int\n",
        "       b: second int\n",
        "    \"\"\"\n",
        "    return a * b\n",
        "\n",
        "def add (a: int, b: int) -> int:\n",
        "    \"\"\"\n",
        "    Add a and b\n",
        "    Args:\n",
        "       a: first int\n",
        "       b: second int\n",
        "    \"\"\"\n",
        "    return a + b\n",
        "\n",
        "def divide(a: int, b: int) -> float:\n",
        "    \"\"\"\n",
        "    Divide a and b\n",
        "    Args:\n",
        "       a: first int\n",
        "       b: second int\n",
        "    \"\"\"\n",
        "    return a / b"
      ]
    },
    {
      "cell_type": "code",
      "execution_count": 44,
      "id": "c523aa47-839e-4668-bf29-489659cdaf7c",
      "metadata": {
        "id": "c523aa47-839e-4668-bf29-489659cdaf7c"
      },
      "outputs": [],
      "source": [
        "model = ChatOpenAI(\n",
        "    model = 'gpt-4o-mini'\n",
        ")\n",
        "\n",
        "arithmetic_tools = [add, multiply, divide]\n",
        "model_with_tools = model.bind_tools(arithmetic_tools)\n",
        "\n",
        "# system message\n",
        "sys_msg = SystemMessage(\n",
        "    content=\"You are a helful assistant tasked with performing arithmetic operations.\"\n",
        ")\n",
        "\n",
        "# helpful assistant node\n",
        "def assistant(state: MessagesState):\n",
        "    return {\"messages\" : [model_with_tools.invoke([sys_msg] + state['messages'])]}\n",
        "\n",
        "# added this for human_feedback creation\n",
        "def human_feedback(stateLMessageState):\n",
        "    pass"
      ]
    },
    {
      "cell_type": "code",
      "execution_count": 45,
      "id": "e232865e-e46d-4513-8681-1bd7b3ec517e",
      "metadata": {
        "id": "e232865e-e46d-4513-8681-1bd7b3ec517e",
        "outputId": "1ea73c9d-9ec7-4b9a-c0b1-ff85292b8501",
        "colab": {
          "base_uri": "https://localhost:8080/",
          "height": 407
        }
      },
      "outputs": [
        {
          "output_type": "display_data",
          "data": {
            "image/png": "[encoded data removed]",
            "text/plain": [
              "<IPython.core.display.Image object>"
            ]
          },
          "metadata": {}
        }
      ],
      "source": [
        "# build graph\n",
        "\n",
        "graph_builder = StateGraph(MessagesState)\n",
        "\n",
        "graph_builder.add_node('assistant', assistant)\n",
        "graph_builder.add_node('tools', ToolNode(arithmetic_tools))\n",
        "\n",
        "# added this node \"human_feedback\"\n",
        "graph_builder.add_node(\"human_feedback\", human_feedback)\n",
        "\n",
        "graph_builder.add_edge(START, 'human_feedback')\n",
        "graph_builder.add_edge(\"human_feedback\", \"assistant\")\n",
        "graph_builder.add_conditional_edges(\n",
        "    'assistant',\n",
        "    tools_condition\n",
        ")\n",
        "\n",
        "graph_builder.add_edge('tools', 'assistant')\n",
        "\n",
        "# set up memory\n",
        "memory = MemorySaver()\n",
        "\n",
        "# execution will be interrupted befoe the 'human_feedback' node\n",
        "breakpoint_graph = graph_builder.compile(interrupt_before=['human_feedback'], checkpointer=memory)\n",
        "\n",
        "# show graph\n",
        "# notice there is not explicit connection from 'assistant' to end\n",
        "# remember from documentation of 'add_conditional_edges':\n",
        "# Use in the conditional_edge to route to the ToolNode if the last message has tool calls. Otherwise, route to the end.\n",
        "\n",
        "drawGraph(breakpoint_graph)"
      ]
    },
    {
      "cell_type": "code",
      "execution_count": 46,
      "id": "ebdb1cf3-3f13-488a-a152-a79310fbbcfe",
      "metadata": {
        "id": "ebdb1cf3-3f13-488a-a152-a79310fbbcfe",
        "outputId": "dd14e081-4caf-4aeb-ce7f-6ba79cbbbe4f",
        "colab": {
          "base_uri": "https://localhost:8080/"
        }
      },
      "outputs": [
        {
          "output_type": "stream",
          "name": "stdout",
          "text": [
            "================================\u001b[1m Human Message \u001b[0m=================================\n",
            "\n",
            "Add 3 and 4. Multiply the output by 2. Divide the output by 0.\n",
            "Do you want to edit the prompt (yes/no):yes\n",
            "Tell me the new prompt:There is a typo error. Instead of divide by 0, change it to divide by 10.\n",
            "================================\u001b[1m Human Message \u001b[0m=================================\n",
            "\n",
            "There is a typo error. Instead of divide by 0, change it to divide by 10.\n",
            "==================================\u001b[1m Ai Message \u001b[0m==================================\n",
            "Tool Calls:\n",
            "  add (call_bkkceZt7xaxFVO9VVDwfE4Js)\n",
            " Call ID: call_bkkceZt7xaxFVO9VVDwfE4Js\n",
            "  Args:\n",
            "    a: 3\n",
            "    b: 4\n",
            "  multiply (call_ieESy2swPwM3mKeAKXU4UR9y)\n",
            " Call ID: call_ieESy2swPwM3mKeAKXU4UR9y\n",
            "  Args:\n",
            "    a: 7\n",
            "    b: 2\n",
            "  divide (call_egmyWCbTEzIETglKVCi2xYuO)\n",
            " Call ID: call_egmyWCbTEzIETglKVCi2xYuO\n",
            "  Args:\n",
            "    a: 14\n",
            "    b: 10\n",
            "=================================\u001b[1m Tool Message \u001b[0m=================================\n",
            "Name: divide\n",
            "\n",
            "1.4\n",
            "==================================\u001b[1m Ai Message \u001b[0m==================================\n",
            "\n",
            "- The sum of 3 and 4 is **7**.\n",
            "- Multiplying that result by 2 gives **14**.\n",
            "- Dividing by 10 results in **1.4**.\n"
          ]
        }
      ],
      "source": [
        "thread = {\"configurable\": {\"thread_id\" : str(random.randint(1, 100))}}\n",
        "\n",
        "# Input\n",
        "# deliberately put in a divide by 0\n",
        "initial_input = {\"messages\": \"Add 3 and 4. Multiply the output by 2. Divide the output by 0.\"}\n",
        "\n",
        "# Run the graph until the first interruption\n",
        "for event in breakpoint_graph.stream(initial_input, thread, stream_mode=\"values\"):\n",
        "    event['messages'][-1].pretty_print()\n",
        "\n",
        "user_want_to_edit = input(\"Do you want to edit the prompt (yes/no):\")\n",
        "if user_want_to_edit.lower() == 'yes':\n",
        "    new_prompt = input('Tell me the new prompt:')\n",
        "    breakpoint_graph.update_state(thread, {\"messages\" : new_prompt}, as_node=\"human_feedback\")\n",
        "\n",
        "    for event in breakpoint_graph.stream(None, thread, stream_mode=\"values\"):\n",
        "        event['messages'][-1].pretty_print()\n",
        "else:\n",
        "    print(\"Operation cancelled by user.\")\n",
        "\n",
        "# Note:\n",
        "# When ask to edit the prompt, you need to reply as it is not a replacement operation. Enter yes to edit the prompt.\n",
        "\n",
        "# Possibilities:\n",
        "# 1. Enter (copy text within quotes) → \"Ignore the last instruction. Do this: Add 3 and 4. Multiply the output by 2. Divide the output by 10.\"\n",
        "# 2. Enter (copy text within quotes) → \"There is a typo error. Instead of divide by 0, change it to divide by 10.\""
      ]
    },
    {
      "cell_type": "markdown",
      "source": [
        "## Alternative Method:\n",
        "Alternative method to draw a graph is to print it using ascii characters.\n",
        "\n",
        "Note: grandalf library needs to be installed."
      ],
      "metadata": {
        "id": "-7hidjhBOJNP"
      },
      "id": "-7hidjhBOJNP"
    },
    {
      "cell_type": "code",
      "execution_count": 47,
      "id": "b3b1fe7b-630c-4a37-a4ba-98633b83337f",
      "metadata": {
        "id": "b3b1fe7b-630c-4a37-a4ba-98633b83337f",
        "outputId": "f67eb34d-9b5d-437c-8d50-e9cb354cfef0",
        "colab": {
          "base_uri": "https://localhost:8080/"
        }
      },
      "outputs": [
        {
          "output_type": "stream",
          "name": "stdout",
          "text": [
            "        +-----------+         \n",
            "        | __start__ |         \n",
            "        +-----------+         \n",
            "               *              \n",
            "               *              \n",
            "               *              \n",
            "      +----------------+      \n",
            "      | human_feedback |      \n",
            "      +----------------+      \n",
            "               *              \n",
            "               *              \n",
            "               *              \n",
            "        +-----------+         \n",
            "        | assistant |         \n",
            "        +-----------+         \n",
            "          .         *         \n",
            "        ..           **       \n",
            "       .               *      \n",
            "+---------+         +-------+ \n",
            "| __end__ |         | tools | \n",
            "+---------+         +-------+ \n"
          ]
        }
      ],
      "source": [
        "breakpoint_graph.get_graph().print_ascii()"
      ]
    }
  ],
  "metadata": {
    "kernelspec": {
      "display_name": "Python 3 (ipykernel)",
      "language": "python",
      "name": "python3"
    },
    "language_info": {
      "codemirror_mode": {
        "name": "ipython",
        "version": 3
      },
      "file_extension": ".py",
      "mimetype": "text/x-python",
      "name": "python",
      "nbconvert_exporter": "python",
      "pygments_lexer": "ipython3",
      "version": "3.9.20"
    },
    "colab": {
      "provenance": []
    }
  },
  "nbformat": 4,
  "nbformat_minor": 5
}