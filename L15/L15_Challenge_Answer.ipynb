{
  "cells": [
    {
      "cell_type": "markdown",
      "id": "4e1dd8cc-9979-4757-b5f5-21e4d5605d41",
      "metadata": {
        "id": "4e1dd8cc-9979-4757-b5f5-21e4d5605d41"
      },
      "source": [
        "<img src=\"https://www.rp.edu.sg/images/default-source/default-album/rp-logo.png\" width=\"200\" alt=\"Republic Polytechnic\"/>\n",
        "\n",
        "[![Open in Colab](https://colab.research.google.com/assets/colab-badge.svg)](https://colab.research.google.com/github/koayst-rplesson/C3669C-2025-01/blob/main/L15/L15_Challenge_Answer.ipynb)"
      ]
    },
    {
      "cell_type": "markdown",
      "id": "87e66413-b20b-45dc-88a7-725a8005916d",
      "metadata": {
        "id": "87e66413-b20b-45dc-88a7-725a8005916d"
      },
      "source": [
        "# Setup and Installation\n",
        "\n",
        "You can run this Jupyter notebook either on your local machine or run it at Google Colab (preferred).\n",
        "\n",
        "* For local machine, it is recommended to install Anaconda and create a new development environment called `c3669c`.\n",
        "* Pip/Conda install the libraries stated below when necessary.\n",
        "---"
      ]
    },
    {
      "cell_type": "markdown",
      "id": "e181688a-e654-416d-b660-d6e876f047e7",
      "metadata": {
        "id": "e181688a-e654-416d-b660-d6e876f047e7"
      },
      "source": [
        "# <font color='red'>ATTENTION</font>\n",
        "\n",
        "## Google Colab\n",
        "- If you are running this code in Google Colab, **DO NOT** store the API Key in a text file and load the key later from Google Drive. This is insecure and will expose the key.\n",
        "- **DO NOT** hard code the API Key directly in the Python code, even though it might seem convenient for quick development.\n",
        "- You need to enter the API key at Python code `getpass.getpass()` when ask.\n",
        "\n",
        "## Local Environment/Laptop\n",
        "- If you are running this code locally in your laptop, you can create a env.txt and store the API key there.\n",
        "- Make sure env.txt is in the same directory of this Jupyter notebook.\n",
        "- You need to install `python-dotenv` and run the Python code to load in the API key.\n",
        "\n",
        "---\n",
        "```\n",
        "%pip install python-dotenv\n",
        "\n",
        "from dotenv import load_dotenv\n",
        "\n",
        "load_dotenv('env.tx')\n",
        "openai_api_key = os.getenv('OPENAI_API_KEY')\n",
        "```\n",
        "---\n",
        "\n",
        "## GitHub/GitLab\n",
        "- **DO NOT** `commit` or `push` API Key to services like GitHub or GitLab."
      ]
    },
    {
      "cell_type": "markdown",
      "id": "864e0e74-9750-484e-85a3-0e2df89ab3eb",
      "metadata": {
        "id": "864e0e74-9750-484e-85a3-0e2df89ab3eb"
      },
      "source": [
        "# Lesson 15 Challenge"
      ]
    },
    {
      "cell_type": "code",
      "execution_count": 1,
      "id": "9b7a1281-5590-4f9d-88fc-76185733bf21",
      "metadata": {
        "id": "9b7a1281-5590-4f9d-88fc-76185733bf21"
      },
      "outputs": [],
      "source": [
        "%%capture --no-stderr\n",
        "%pip install --quiet -U langchain\n",
        "%pip install --quiet -U langgraph\n",
        "%pip install --quiet -U langchain-openai\n",
        "%pip install --quiet -U langchain-community\n",
        "%pip install --quiet -U tavily-python\n",
        "%pip install --quiet -U wikipedia\n",
        "%pip install --quiet -U \"langchain-chroma>=0.1.2\"\n",
        "%pip install --quiet -U pymupdf"
      ]
    },
    {
      "cell_type": "code",
      "execution_count": null,
      "id": "02ed6b64-6afd-49b1-b20d-c0126966cb52",
      "metadata": {
        "id": "02ed6b64-6afd-49b1-b20d-c0126966cb52"
      },
      "outputs": [],
      "source": [
        "# langchain              0.3.11\n",
        "# langgraph              0.2.59\n",
        "# langchain-core         0.3.24\n",
        "# langchain-openai       0.2.12\n",
        "# langchain-community    0.3.12\n",
        "# openai                 1.57.2\n",
        "# pydantic               2.10.3\n",
        "# tavily-python          0.5.0\n",
        "# wikipedia              1.4.0\n",
        "# chroma                 0.5.23\n",
        "# PyMuPDF                1.25.1"
      ]
    },
    {
      "cell_type": "code",
      "execution_count": 2,
      "id": "de84b6a8-289a-49d6-ad78-0e105a5ff503",
      "metadata": {
        "id": "de84b6a8-289a-49d6-ad78-0e105a5ff503"
      },
      "outputs": [],
      "source": [
        "import getpass\n",
        "import os"
      ]
    },
    {
      "cell_type": "code",
      "execution_count": 3,
      "id": "204b5efe-52a1-473b-baaf-49428f5c8d0c",
      "metadata": {
        "id": "204b5efe-52a1-473b-baaf-49428f5c8d0c",
        "outputId": "7e817fd7-8da6-4754-da92-ace40d339621",
        "colab": {
          "base_uri": "https://localhost:8080/"
        }
      },
      "outputs": [
        {
          "name": "stdout",
          "output_type": "stream",
          "text": [
            "··········\n"
          ]
        }
      ],
      "source": [
        "# setup the OpenAI API Key\n",
        "\n",
        "# get OpenAI API key ready and enter it when ask\n",
        "os.environ[\"OPENAI_API_KEY\"] = getpass.getpass()"
      ]
    },
    {
      "cell_type": "code",
      "execution_count": 4,
      "id": "4f03db0f-e170-40f3-ad72-35f68d3b44d6",
      "metadata": {
        "id": "4f03db0f-e170-40f3-ad72-35f68d3b44d6",
        "outputId": "e231e4f9-b661-4ddf-99df-8f764fb725ef",
        "colab": {
          "base_uri": "https://localhost:8080/"
        }
      },
      "outputs": [
        {
          "name": "stdout",
          "output_type": "stream",
          "text": [
            "··········\n"
          ]
        }
      ],
      "source": [
        "# Goto https://tavily.com/ and sign up to get an API key\n",
        "\n",
        "# get Tavily Search API key ready and enter it when ask\n",
        "os.environ[\"TAVILY_API_KEY\"] = getpass.getpass()"
      ]
    },
    {
      "cell_type": "markdown",
      "id": "a3b2c924-3ffd-495a-95f6-5b64468cede9",
      "metadata": {
        "id": "a3b2c924-3ffd-495a-95f6-5b64468cede9"
      },
      "source": [
        "---"
      ]
    },
    {
      "cell_type": "markdown",
      "id": "1e82d173-7455-4a74-a443-bae0f5e9826e",
      "metadata": {
        "id": "1e82d173-7455-4a74-a443-bae0f5e9826e"
      },
      "source": [
        "## Activity 1\n",
        "\n",
        "<img src=\"https://github.com/koayst-rplesson/C3669C-2025-01/blob/main/L15/harrypotter.png?raw=1\" width=\"70%\" height=\"auto\">\n",
        "\n",
        "We are building a Retrieval-Augmented Generation (RAG) application using an LLM to answer questions about Harry Potter the book \"The Sorcerer’s Stone\". Complete the code, construct the graph, and run tests to ensure functionality. Feel free to enhance the implementation.\n",
        "\n",
        "## <font color=\"#FF0000\">IMPORTANT</font>\n",
        "If you are running this code in Google Colab, you need to run the below commands to download `Harry Potter_The Sorcerers Stone.pdf` to Google Colab.\n",
        "\n",
        "Comment out the below code with '#' if you are not running it in your local machine."
      ]
    },
    {
      "cell_type": "code",
      "execution_count": 5,
      "id": "50983116-5582-4fe0-af1b-210ba617611a",
      "metadata": {
        "id": "50983116-5582-4fe0-af1b-210ba617611a",
        "outputId": "161cddaa-a6f1-4301-c4e7-5785296a2215",
        "colab": {
          "base_uri": "https://localhost:8080/"
        }
      },
      "outputs": [
        {
          "output_type": "stream",
          "name": "stdout",
          "text": [
            "--2025-05-23 05:29:17--  https://github.com/koayst-rplesson/C3669C-2025-01/raw/refs/heads/main/L15/Harry%20Potter_The%20Sorcerers%20Stone.pdf\n",
            "Resolving github.com (github.com)... 140.82.113.4\n",
            "Connecting to github.com (github.com)|140.82.113.4|:443... connected.\n",
            "HTTP request sent, awaiting response... 302 Found\n",
            "Location: https://raw.githubusercontent.com/koayst-rplesson/C3669C-2025-01/refs/heads/main/L15/Harry%20Potter_The%20Sorcerers%20Stone.pdf [following]\n",
            "--2025-05-23 05:29:17--  https://raw.githubusercontent.com/koayst-rplesson/C3669C-2025-01/refs/heads/main/L15/Harry%20Potter_The%20Sorcerers%20Stone.pdf\n",
            "Resolving raw.githubusercontent.com (raw.githubusercontent.com)... 185.199.108.133, 185.199.109.133, 185.199.110.133, ...\n",
            "Connecting to raw.githubusercontent.com (raw.githubusercontent.com)|185.199.108.133|:443... connected.\n",
            "HTTP request sent, awaiting response... 200 OK\n",
            "Length: 1049997 (1.0M) [application/octet-stream]\n",
            "Saving to: ‘Harry Potter_The Sorcerers Stone.pdf’\n",
            "\n",
            "Harry Potter_The So 100%[===================>]   1.00M  --.-KB/s    in 0.06s   \n",
            "\n",
            "2025-05-23 05:29:18 (16.9 MB/s) - ‘Harry Potter_The Sorcerers Stone.pdf’ saved [1049997/1049997]\n",
            "\n",
            "Harry\\ Potter_The\\ Sorcerers\\ Stone.pdf  sample_data\n"
          ]
        }
      ],
      "source": [
        "!wget \"https://github.com/koayst-rplesson/C3669C-2025-01/raw/refs/heads/main/L15/Harry%20Potter_The%20Sorcerers%20Stone.pdf\"\n",
        "!dir"
      ]
    },
    {
      "cell_type": "code",
      "execution_count": 6,
      "id": "20e981a1-5e3a-487d-b6a7-d481e6f882cb",
      "metadata": {
        "id": "20e981a1-5e3a-487d-b6a7-d481e6f882cb"
      },
      "outputs": [],
      "source": [
        "from langchain_chroma import Chroma\n",
        "from langchain_community.document_loaders import PyMuPDFLoader\n",
        "\n",
        "from langchain_openai import ChatOpenAI, OpenAIEmbeddings\n",
        "from langchain_text_splitters.character import RecursiveCharacterTextSplitter\n",
        "\n",
        "from langchain_core.prompts.chat import ChatPromptTemplate\n",
        "from langchain_core.messages import HumanMessage, SystemMessage\n",
        "from langchain_core.output_parsers import StrOutputParser\n",
        "\n",
        "from pydantic import BaseModel, Field\n",
        "from typing import List, Optional\n",
        "\n",
        "from langgraph.graph import StateGraph, START, END"
      ]
    },
    {
      "cell_type": "code",
      "execution_count": 7,
      "id": "67ea6bdd-30f1-4932-a8e1-9a94d3d3f61a",
      "metadata": {
        "id": "67ea6bdd-30f1-4932-a8e1-9a94d3d3f61a"
      },
      "outputs": [],
      "source": [
        "# set up the model\n",
        "\n",
        "llm_model = ChatOpenAI(\n",
        "    model = 'gpt-4o-mini',\n",
        ")"
      ]
    },
    {
      "cell_type": "code",
      "execution_count": 8,
      "id": "4d79f026-5d8d-4fde-8ea4-efe3ecd8d2ad",
      "metadata": {
        "id": "4d79f026-5d8d-4fde-8ea4-efe3ecd8d2ad"
      },
      "outputs": [],
      "source": [
        "# set up the PDF loader\n",
        "\n",
        "loader = PyMuPDFLoader(\"Harry Potter_The Sorcerers Stone.pdf\")"
      ]
    },
    {
      "cell_type": "code",
      "execution_count": 9,
      "id": "261055f4-3df7-412f-9399-ec9c8fec45d4",
      "metadata": {
        "id": "261055f4-3df7-412f-9399-ec9c8fec45d4"
      },
      "outputs": [],
      "source": [
        "# load the PDF using the PDF loader\n",
        "\n",
        "hp_pages = []\n",
        "for page in loader.load():\n",
        "    hp_pages.append(page)\n",
        "\n",
        "# ignore the user warnings since pages 0 and 1 are blank pages"
      ]
    },
    {
      "cell_type": "code",
      "execution_count": 10,
      "id": "f88683c7-a2d2-435a-858f-ba319f75a13c",
      "metadata": {
        "id": "f88683c7-a2d2-435a-858f-ba319f75a13c",
        "outputId": "3b66eb37-d28d-43e3-dc34-b86cfe630c95",
        "colab": {
          "base_uri": "https://localhost:8080/"
        }
      },
      "outputs": [
        {
          "output_type": "stream",
          "name": "stdout",
          "text": [
            "We have 221 pages in total\n",
            "\n",
            "-------------\n",
            "Page Content:\n",
            "-------------\n",
            "was standing on their stools while Neville, who had been drenched in the potion\n",
            "when the cauldron collapsed, moaned in pain as angry red boils sprang up all\n",
            "over his arms and legs.\n",
            "      “Idiot boy!” snarled Snape, clearing the spilled potion away with one\n",
            "wave of his wand. “I suppose you added the porcupine quills before taking the\n",
            "cauldron off the fire?”\n",
            "      Neville whimpered as boils started to pop up all over his nose.\n",
            "      “Take him up to the hospital wing,” Snape spat at Seamus. Then he\n",
            "rounded on Harry and Ron, who had been working next to Neville.\n",
            "      “You — Potter — why didn’t you tell him not to add the quills? Thought\n",
            "he’d make you look good if he got it wrong, did you? That’s another point\n",
            "you’ve lost for Gryffindor.”\n",
            "      This was so unfair that Harry opened his mouth to argue, but Ron kicked\n",
            "him behind their cauldron.\n",
            "      “Don’t push it,” he muttered, “I’ve heard Snape can turn very nasty.”\n",
            "      As they climbed the steps out of the dungeon an hour later, Harry’s mind\n",
            "was racing and his spirits were low. He’d lost two points for Gryffindor in his\n",
            "very first week — why did Snape hate him so much?\n",
            "      “Cheer up,” said Ron, “Snape’s always taking points off Fred and\n",
            "George. Can I come and meet Hagrid with you?”\n",
            "      At five to three they left the castle and made their way across the\n",
            "grounds. Hagrid lived in a small wooden house on the edge of the forbidden\n",
            "forest. A crossbow and a pair of galoshes were outside the front door.\n",
            "      When Harry knocked they heard a frantic scrabbling from inside and\n",
            "several booming barks. Then Hagrid’s voice rang out, saying, “Back, Fang —\n",
            "back.”\n",
            "      Hagrid’s big, hairy face appeared in the crack as he pulled the door open.\n",
            "      “Hang on,” he said. “Back, Fang.”\n",
            "      He let them in, struggling to keep a hold on the collar of an enormous\n",
            "black boarhound.\n",
            "      There was only one room inside. Hams and pheasants were hanging from\n",
            "the ceiling, a copper kettle was boiling on the open fire, and in the corner stood a\n",
            "massive bed with a patchwork quilt over it.\n",
            "      “Make yerselves at home,” said Hagrid, letting go of Fang, who bounded\n",
            "straight at Ron and started licking his ears. Like Hagrid, Fang was clearly not as\n",
            "fierce as he looked.\n",
            "      “This is Ron,” Harry told Hagrid, who was pouring boiling water into a\n",
            "large teapot and putting rock cakes onto a plate.\n",
            "      “Another Weasley, eh?” said Hagrid, glancing at Ron’s freckles. I spent\n"
          ]
        }
      ],
      "source": [
        "# print some information about the PDF\n",
        "\n",
        "print(f'We have {len(hp_pages)} pages in total\\n')\n",
        "print('-'*13)\n",
        "\n",
        "# print page 100th\n",
        "print(f'Page Content:\\n{\"-\"*13}\\n{hp_pages[100].page_content}')"
      ]
    },
    {
      "cell_type": "code",
      "execution_count": 11,
      "id": "ebaf7687-8eb6-4d7f-b54f-02a7890506ae",
      "metadata": {
        "id": "ebaf7687-8eb6-4d7f-b54f-02a7890506ae",
        "outputId": "ff3a90ea-303f-4332-c939-e6e4a91ba286",
        "colab": {
          "base_uri": "https://localhost:8080/"
        }
      },
      "outputs": [
        {
          "output_type": "stream",
          "name": "stdout",
          "text": [
            "We have created 756 chunks from 221 pages\n"
          ]
        }
      ],
      "source": [
        "# set up the text splitter (chunking)\n",
        "\n",
        "text_splitter = RecursiveCharacterTextSplitter(\n",
        "    chunk_size = 800,\n",
        "    chunk_overlap = 100\n",
        ")\n",
        "\n",
        "# split the text\n",
        "texts = text_splitter.split_documents(hp_pages)\n",
        "print(f'We have created {len(texts)} chunks from {len(hp_pages)} pages')"
      ]
    },
    {
      "cell_type": "code",
      "execution_count": 12,
      "id": "608955e7-bcf9-4509-bf12-0f1aecaf2cab",
      "metadata": {
        "id": "608955e7-bcf9-4509-bf12-0f1aecaf2cab"
      },
      "outputs": [],
      "source": [
        "# set up vector store as a retriever\n",
        "\n",
        "vectorstore = Chroma.from_documents(\n",
        "    collection_name = \"rag-chroma\",\n",
        "    documents = texts,\n",
        "\n",
        "    # Note:\n",
        "    # if you use Chroma.from_documents, you should use 'embedding'\n",
        "    # if you use Chroma, you should use \"embedding_function'\n",
        "    embedding = OpenAIEmbeddings(),\n",
        "    persist_directory = \"./chroma_langchain_db\",\n",
        ")\n",
        "\n",
        "retriever = vectorstore.as_retriever()"
      ]
    },
    {
      "cell_type": "code",
      "execution_count": 13,
      "id": "2c1f8b4e-6d63-48de-994b-1e6ef0a34fea",
      "metadata": {
        "id": "2c1f8b4e-6d63-48de-994b-1e6ef0a34fea"
      },
      "outputs": [],
      "source": [
        "# define the state of the graph\n",
        "\n",
        "class GraphState(BaseModel):\n",
        "    question: Optional[str] = None     # Optional string, default is None\n",
        "    generation: Optional[str] = None   # Optional string, default is None\n",
        "    documents: List[str] = []          # Defaults to an empty list"
      ]
    },
    {
      "cell_type": "code",
      "execution_count": 14,
      "id": "b99c0329-bd99-4eaa-a48c-cd8402ecfb15",
      "metadata": {
        "id": "b99c0329-bd99-4eaa-a48c-cd8402ecfb15"
      },
      "outputs": [],
      "source": [
        "# set up the system and human prompts\n",
        "\n",
        "system_prompt = \"\"\"\n",
        "You are an assistant for question-answering tasks.\n",
        "Use the following pieces of retrieved context to answer the question.\n",
        "If you don't know the answer, just say you don't know.\n",
        "Use maximum of three sentences and keep the answer concise.\n",
        "Only provide the answer and nothing else!\n",
        "\"\"\"\n",
        "\n",
        "human_prompt=\"\"\"\n",
        "Question: {question}\n",
        "\n",
        "Context: {context}\n",
        "\n",
        "Answer:\n",
        "\"\"\"\n",
        "\n",
        "sys_msg = SystemMessage(\n",
        "    content=\"You are a helful assistant tasked with performing arithmetic operations.\"\n",
        ")"
      ]
    },
    {
      "cell_type": "code",
      "execution_count": 15,
      "id": "8af29b92-9204-4d59-a1ed-e57a09c7eda4",
      "metadata": {
        "id": "8af29b92-9204-4d59-a1ed-e57a09c7eda4"
      },
      "outputs": [],
      "source": [
        "rag_prompt = ChatPromptTemplate.from_messages(\n",
        "    [\n",
        "        (\"system\", system_prompt),\n",
        "        (\"human\", human_prompt)\n",
        "    ]\n",
        ")"
      ]
    },
    {
      "cell_type": "code",
      "execution_count": 16,
      "id": "9ec3f115-c980-4113-8c8c-234b4e41c5ab",
      "metadata": {
        "id": "9ec3f115-c980-4113-8c8c-234b4e41c5ab"
      },
      "outputs": [],
      "source": [
        "# set up the rag pipeline\n",
        "\n",
        "rag_chain = rag_prompt | llm_model | StrOutputParser()"
      ]
    },
    {
      "cell_type": "code",
      "execution_count": 17,
      "id": "440cf97a-7271-418d-90ff-67c58bb49a5d",
      "metadata": {
        "id": "440cf97a-7271-418d-90ff-67c58bb49a5d"
      },
      "outputs": [],
      "source": [
        "# define the retrieval node for the graph\n",
        "\n",
        "def retrieval_node(state: GraphState):\n",
        "    new_documents = retriever.invoke(state.question)\n",
        "    new_documents = [d.page_content for d in new_documents]\n",
        "    state.documents.extend(new_documents)\n",
        "    return {\"documents\" : state.documents}"
      ]
    },
    {
      "cell_type": "code",
      "execution_count": 18,
      "id": "2bea8dde-a967-4405-834c-117dc431068e",
      "metadata": {
        "id": "2bea8dde-a967-4405-834c-117dc431068e"
      },
      "outputs": [],
      "source": [
        "# define the generation node for the graph\n",
        "\n",
        "def generation_node(state: GraphState):\n",
        "    generation = rag_chain.invoke({\n",
        "        \"context\" : \"\\n\\n\".join(state.documents),\n",
        "        \"question\" : state.question,\n",
        "    })\n",
        "\n",
        "    return {\"generation\" : generation}"
      ]
    },
    {
      "cell_type": "code",
      "execution_count": 19,
      "id": "83624ac8-fd56-4564-9886-44f066bd4cb0",
      "metadata": {
        "id": "83624ac8-fd56-4564-9886-44f066bd4cb0"
      },
      "outputs": [],
      "source": [
        "# build the graph\n",
        "\n",
        "graph_builder = StateGraph(GraphState)\n",
        "\n",
        "graph_builder.add_node('retrieval_node', retrieval_node)\n",
        "graph_builder.add_node('generation_node', generation_node)\n",
        "\n",
        "graph_builder.add_edge(START, 'retrieval_node')\n",
        "graph_builder.add_edge('retrieval_node', 'generation_node')\n",
        "graph_builder.add_edge('generation_node', END)\n",
        "\n",
        "graph = graph_builder.compile()"
      ]
    },
    {
      "cell_type": "code",
      "execution_count": 20,
      "id": "5a261461-af71-4d21-8437-dfa90c32155d",
      "metadata": {
        "id": "5a261461-af71-4d21-8437-dfa90c32155d",
        "outputId": "6f0cdd5f-6a4d-42a8-c2bf-40af66fc0110",
        "colab": {
          "base_uri": "https://localhost:8080/",
          "height": 350
        }
      },
      "outputs": [
        {
          "output_type": "display_data",
          "data": {
            "image/png": "[encoded data removed]",
            "text/plain": [
              "<IPython.core.display.Image object>"
            ]
          },
          "metadata": {}
        }
      ],
      "source": [
        "# View Graph\n",
        "from IPython.display import Image, display\n",
        "\n",
        "display(Image(graph.get_graph().draw_mermaid_png()))"
      ]
    },
    {
      "cell_type": "markdown",
      "id": "ac3c554f-1134-4b9f-8198-ea7182e075e3",
      "metadata": {
        "id": "ac3c554f-1134-4b9f-8198-ea7182e075e3"
      },
      "source": [
        "### Q&A Samples for Your Observation Comparison\n",
        "They were generated using online ChatGPT.\n",
        "\n",
        "---\n",
        "\n",
        "**Q: How does Harry discover he is a wizard?**\n",
        "A: Harry discovers he is a wizard on his eleventh birthday when Hagrid visits him at the Dursleys' home. Hagrid delivers a letter from Hogwarts School of Witchcraft and Wizardry, explains Harry’s true heritage, and reveals that he is famous in the wizarding world for surviving Voldemort’s attack as a baby.\n",
        "\n",
        "**Q: What is the significance of the Sorcerer’s Stone, and why is it hidden at Hogwarts?**\n",
        "A: The Sorcerer’s Stone, created by Nicolas Flamel, has the power to grant immortality and produce unlimited gold. It is hidden at Hogwarts to keep it safe from Voldemort, who seeks it to regain his physical form and power. The stone is guarded by a series of magical challenges created by Hogwarts professors, including a giant three-headed dog named Fluffy and various enchanted obstacles.\n",
        "\n",
        "**Q: How does Harry ultimately defeat Professor Quirrell and prevent Voldemort from getting the Stone?**\n",
        "A: Harry confronts Professor Quirrell, who is possessed by Voldemort, in the final chamber. When Quirrell tries to seize the Sorcerer’s Stone, he cannot touch Harry due to the protective magic left by Harry’s mother’s sacrifice. This love-based protection causes Quirrell immense pain and ultimately leads to Voldemort fleeing, leaving Harry victorious.\n",
        "\n",
        "**Q: What role does the Mirror of Erised play in the story?**\n",
        "A: The Mirror of Erised shows the viewer their deepest desires. For Harry, it displays his parents, highlighting his longing for family. The mirror serves as a tool for self-reflection and an important plot device when Dumbledore uses it to hide the Sorcerer’s Stone. Only someone who seeks the Stone without selfish intent can retrieve it, a test Voldemort fails.\n",
        "\n",
        "**Q: How does Harry ultimately defeat Professor Quirrell and prevent Voldemort from getting the Stone?**\n",
        "A: Harry confronts Professor Quirrell, who is possessed by Voldemort, in the final chamber. When Quirrell tries to seize the Sorcerer’s Stone, he cannot touch Harry due to the protective magic left by Harry’s mother’s sacrifice. This love-based protection causes Quirrell immense pain and ultimately leads to Voldemort fleeing, leaving Harry victorious.\n",
        "\n",
        "---"
      ]
    },
    {
      "cell_type": "code",
      "execution_count": 21,
      "id": "45917890-e597-4901-8739-5406d6acf1c4",
      "metadata": {
        "id": "45917890-e597-4901-8739-5406d6acf1c4"
      },
      "outputs": [],
      "source": [
        "# question to be asked by user\n",
        "\n",
        "user_input = {'question' : 'How does Harry ultimately defeat Professor Quirrell and prevent Voldemort from getting the Stone?'}"
      ]
    },
    {
      "cell_type": "code",
      "execution_count": 22,
      "id": "8e836ef6-61f0-4b58-8372-3c2ec9f2fc64",
      "metadata": {
        "id": "8e836ef6-61f0-4b58-8372-3c2ec9f2fc64",
        "outputId": "070901d2-cbcc-4df3-e248-2d331dca9d6c",
        "colab": {
          "base_uri": "https://localhost:8080/"
        }
      },
      "outputs": [
        {
          "output_type": "stream",
          "name": "stdout",
          "text": [
            "Receiving update from node: 'retrieval_node'\n",
            "{'documents': ['Quirrell cursed again.\\n      “Get out of the way,” he said. As Harry moved aside, he felt the\\nSorcerer’s Stone against his leg. Dare he make a break for it?\\n      But he hadn’t walked five paces before a high voice spoke, though\\nQuirrell wasn’t moving his lips.\\n      “He lies…He lies.…”\\n      “Potter, come back here!” Quirrell shouted. “Tell me the truth! What did\\nyou just see?”\\n      The high voice spoke again.\\n      “Let me speak to him…face-to-face…”\\n      “Master, you are not strong enough!”\\n      “I have strength enough…for this…”\\n      Harry felt as if Devil’s Snare was rooting him to the spot. He couldn’t\\nmove a muscle. Petrified, he watched as Quirrell reached up and began to\\nunwrap his turban. What was going on? The turban fell away. Quirrell’s head', '“So all I’ve got to wait for now is Snape to steal the Stone,” Harry went\\non feverishly, “then Voldemort will be able to come and finish me off ... Well, I\\nsuppose Bane’ll be happy.”\\n      Hermione looked very frightened, but she had a word of comfort.\\n      “Harry, everyone says Dumbledore’s the only one You-Know-Who was\\never afraid of with Dumbledore around, You-Know-Who won’t touch you.\\nAnyway, who says the centaurs are right? It sounds like fortune-telling to me,\\nand Professor McGonagall says that’s a very imprecise branch of magic.”\\n      The sky had turned light before they stopped talking. They went to bed\\nexhausted, their throats sore. But the night’s surprises weren’t over.\\n      When Harry pulled back his sheets, he found his invisibility cloak folded', 'give me the Stone, unless you want her to have died in vain.”\\n      “NEVER!”\\n      Harry sprang toward the flame door, but Voldemort screamed “SEIZE\\nHIM!” and the next second, Harry felt Quirrell’s hand close on his wrist. At\\nonce, a needle-sharp pain seared across Harry’s scar; his head felt as though it\\nwas about to split in two; he yelled, struggling with all his might, and to his\\nsurprise, Quirrell let go of him. The pain in his head lessened — he looked\\naround wildly to see where Quirrell had gone, and saw him hunched in pain,\\nlooking at his fingers — they were blistering before his eyes.\\n      “Seize him! SEIZE HIM!” shrieked Voldemort again, and Quirrell\\nlunged, knocking Harry clean off his feet landing on top of him, both hands', 'Snape had been in on protecting the Stone, it must have been easy to find out\\nhow the other teachers had guarded it. He probably knew everything — except,\\nit seemed, Quirrell’s spell and how to get past Fluffy.\\n      “You’re the only one who knows how to get past Fluffy. aren’t you,\\nHagrid?” said Harry anxiously. “And you wouldn’t tell anyone, would you? Not\\neven one of the teachers?”\\n      “Not a soul knows except me an’ Dumbledore,” said Hagrid proudly.']}\n",
            "----------\n",
            "Receiving update from node: 'generation_node'\n",
            "{'generation': \"Harry ultimately defeats Professor Quirrell and prevents Voldemort from getting the Stone by unintentionally causing Quirrell great pain through physical contact. When Quirrell grabs Harry's wrist, the pain from Harry's scar causes Quirrell to let go, and subsequently, Quirrell experiences blistering on his hands, which weakens him, allowing Harry to escape. This interaction highlights the protective power of love, as Harry's mother's sacrifice prevents Voldemort from fully possessing Quirrell and attaining the Stone.\"}\n",
            "----------\n"
          ]
        }
      ],
      "source": [
        "# run the graph to generate the output\n",
        "\n",
        "for chunk in graph.stream(user_input, stream_mode='updates'):\n",
        "    for node, values in chunk.items():\n",
        "        print(f\"Receiving update from node: '{node}'\")\n",
        "        print(values)\n",
        "        print(\"-\"*10)"
      ]
    },
    {
      "cell_type": "markdown",
      "id": "7e9a28b7-8e55-4df9-8897-f1f3015fe42a",
      "metadata": {
        "id": "7e9a28b7-8e55-4df9-8897-f1f3015fe42a"
      },
      "source": [
        "---"
      ]
    },
    {
      "cell_type": "markdown",
      "id": "82fc6f41-5fd5-4ab8-a238-1c10205fc72f",
      "metadata": {
        "id": "82fc6f41-5fd5-4ab8-a238-1c10205fc72f"
      },
      "source": [
        "## Activity 2\n",
        "\n",
        "<img src=\"https://github.com/koayst-rplesson/C3669C-2025-01/blob/main/L15/Wikipedia_Logo_1.0.png?raw=1\" width=\"20%\" height=\"auto\">\n",
        "\n",
        "We will be using Wikipedia and a Google search services to gather contexts to answer a question directed to the LLM. You are to complete the code and build the graph. Run test on it to ensure that it is working. Feel free to improve it.\n",
        "\n",
        "**NOTE**</br>\n",
        "Make sure you have signed up at [Tavily](https://tavily.com/) and get an API key before continuing."
      ]
    },
    {
      "cell_type": "code",
      "execution_count": 59,
      "id": "b9be6546-ab80-4fe5-b495-a21b3219f6ba",
      "metadata": {
        "id": "b9be6546-ab80-4fe5-b495-a21b3219f6ba"
      },
      "outputs": [],
      "source": [
        "from langchain_openai import ChatOpenAI\n",
        "\n",
        "from langchain_core.messages import HumanMessage, SystemMessage\n",
        "\n",
        "from langchain_community.document_loaders import WikipediaLoader\n",
        "from langchain_community.tools.tavily_search import TavilySearchResults\n",
        "\n",
        "from langgraph.graph import StateGraph, START, END\n",
        "\n",
        "from typing import Annotated\n",
        "from langchain_core.messages import AnyMessage\n",
        "from langgraph.graph.message import add_messages\n",
        "from typing_extensions import TypedDict\n",
        "\n",
        "from IPython.display import Image, display"
      ]
    },
    {
      "cell_type": "code",
      "execution_count": 60,
      "id": "1122513e-b407-44cf-877f-2b9fcb4e0a13",
      "metadata": {
        "id": "1122513e-b407-44cf-877f-2b9fcb4e0a13"
      },
      "outputs": [],
      "source": [
        "# use 'gpt-4o-mini`\n",
        "\n",
        "model = ChatOpenAI(\n",
        "    model = 'gpt-4o-mini'\n",
        ")"
      ]
    },
    {
      "cell_type": "code",
      "execution_count": 61,
      "id": "7a863e2c-750c-4aff-9330-bfd37830905a",
      "metadata": {
        "id": "7a863e2c-750c-4aff-9330-bfd37830905a"
      },
      "outputs": [],
      "source": [
        "# complete the code\n",
        "class State(TypedDict):\n",
        "    # the question to be send to the LLM\n",
        "    question: str\n",
        "\n",
        "    # the answer returned by the LLM\n",
        "    answer: str\n",
        "\n",
        "    # a list of context is created\n",
        "    # from the searches\n",
        "    context: Annotated[list[AnyMessage], add_messages]"
      ]
    },
    {
      "cell_type": "code",
      "execution_count": 62,
      "id": "804d9eb0-5044-43ef-8286-b7cfe2274b18",
      "metadata": {
        "id": "804d9eb0-5044-43ef-8286-b7cfe2274b18"
      },
      "outputs": [],
      "source": [
        "# search_web node is defined as below\n",
        "\n",
        "def search_web(state):\n",
        "    \"\"\" Retrieve docs from web search \"\"\"\n",
        "    tavily_search = TavilySearchResults(max_results=3)    # return three search result\n",
        "    search_docs = tavily_search.invoke(state['question'])\n",
        "\n",
        "    # format the search result\n",
        "    formatted_search_docs = \"\\n\\n---\\n\\n\".join(\n",
        "       [\n",
        "          f'<Document href=\"{doc[\"url\"]}\"/>\\n{doc[\"content\"]}\\n</Document>' for doc in search_docs if isinstance(doc, dict) and 'content' in doc\n",
        "       ]\n",
        "    )\n",
        "\n",
        "    # for debugging\n",
        "    print('X'*30)\n",
        "    print(\"search_web result:\")\n",
        "    print(formatted_search_docs)\n",
        "    print(\"X\"*30)\n",
        "    print(\"\\n\\n\")\n",
        "\n",
        "    return {\"context\" : [formatted_search_docs]}"
      ]
    },
    {
      "cell_type": "code",
      "execution_count": 63,
      "id": "7cf982b7-1fc8-4c8c-b040-bbaa264e0dde",
      "metadata": {
        "id": "7cf982b7-1fc8-4c8c-b040-bbaa264e0dde"
      },
      "outputs": [],
      "source": [
        "# search_wikipedia node is defined as below\n",
        "\n",
        "def search_wikipedia(state):\n",
        "\n",
        "    \"\"\" Retrieve docs from wikipedia \"\"\"\n",
        "    # Search\n",
        "    search_docs = WikipediaLoader(\n",
        "        query=state['question'],\n",
        "        load_max_docs=2).load()\n",
        "\n",
        "    # format the search result\n",
        "    formatted_search_docs = \"\\n\\n---\\n\\n\".join(\n",
        "        [\n",
        "            f'<Document source=\"{doc.metadata[\"source\"]}\" page=\"{doc.metadata.get(\"page\", \"\")}\"/>\\n{doc.page_content}\\n</Document>'\n",
        "            for doc in search_docs\n",
        "        ]\n",
        "    )\n",
        "\n",
        "    # for debugging\n",
        "    print('X'*30)\n",
        "    print(\"search_wikipedia result:\")\n",
        "    print(formatted_search_docs)\n",
        "    print(\"X\"*30)\n",
        "    print(\"\\n\\n\")\n",
        "\n",
        "    return {\"context\" : [formatted_search_docs]}"
      ]
    },
    {
      "cell_type": "code",
      "execution_count": 64,
      "id": "65dd17c4-f79e-41d9-be70-2f2dce85fe37",
      "metadata": {
        "id": "65dd17c4-f79e-41d9-be70-2f2dce85fe37"
      },
      "outputs": [],
      "source": [
        "# generate_answer node is defined as below\n",
        "\n",
        "def generate_answer(state):\n",
        "    \"\"\" Node to generate answer \"\"\"\n",
        "\n",
        "    # get context and question from state\n",
        "    context = state['context']\n",
        "    question = state['question']\n",
        "\n",
        "    answer_template = \"\"\"Answer the question: {question} using this context: {context}\"\"\"\n",
        "    answer_instructions = answer_template.format(question = question, context = context)\n",
        "\n",
        "    # Now get the model (LLM) to answer\n",
        "    answer = model.invoke(\n",
        "        [SystemMessage(content = answer_instructions)] +\n",
        "        [HumanMessage(content = \"Please answer the question and indicate the source of truth.\")]\n",
        "    )\n",
        "\n",
        "    return {\"answer\" : answer}"
      ]
    },
    {
      "cell_type": "code",
      "execution_count": 65,
      "id": "f1219420-b1db-4c46-b3df-6eff7c4cb0ce",
      "metadata": {
        "id": "f1219420-b1db-4c46-b3df-6eff7c4cb0ce",
        "outputId": "80ef13a4-40e7-4892-8759-fb4507d2dd13",
        "colab": {
          "base_uri": "https://localhost:8080/",
          "height": 350
        }
      },
      "outputs": [
        {
          "output_type": "display_data",
          "data": {
            "image/png": "[encoded data removed]",
            "text/plain": [
              "<IPython.core.display.Image object>"
            ]
          },
          "metadata": {}
        }
      ],
      "source": [
        "# Build the graph\n",
        "\n",
        "# initialise the state graph\n",
        "builder = StateGraph(State)\n",
        "\n",
        "# setup the nodes\n",
        "builder.add_node(\"search_web\", search_web)\n",
        "builder.add_node(\"search_wikipedia\", search_wikipedia)\n",
        "builder.add_node(\"generate_answer\", generate_answer)\n",
        "\n",
        "# connect the nodes\n",
        "builder.add_edge(START, \"search_web\")\n",
        "builder.add_edge(START, \"search_wikipedia\")\n",
        "builder.add_edge(\"search_wikipedia\", \"generate_answer\")\n",
        "builder.add_edge(\"search_web\", \"generate_answer\")\n",
        "builder.add_edge(\"generate_answer\", END)\n",
        "\n",
        "#compile the graph as assistant\n",
        "assistant = builder.compile()\n",
        "\n",
        "# display the graph\n",
        "display(Image(assistant.get_graph().draw_mermaid_png()))"
      ]
    },
    {
      "cell_type": "code",
      "execution_count": 66,
      "id": "a6c65d33-b899-4296-8dc6-ebbc52d09076",
      "metadata": {
        "id": "a6c65d33-b899-4296-8dc6-ebbc52d09076",
        "outputId": "95350bf8-d3cf-4735-92f4-e9b5e68421f1",
        "colab": {
          "base_uri": "https://localhost:8080/"
        }
      },
      "outputs": [
        {
          "output_type": "stream",
          "name": "stdout",
          "text": [
            "XXXXXXXXXXXXXXXXXXXXXXXXXXXXXX\n",
            "search_web result:\n",
            "\n",
            "XXXXXXXXXXXXXXXXXXXXXXXXXXXXXX\n",
            "\n",
            "\n",
            "\n",
            "XXXXXXXXXXXXXXXXXXXXXXXXXXXXXX\n",
            "search_wikipedia result:\n",
            "<Document source=\"https://en.wikipedia.org/wiki/Nvidia\" page=\"\"/>\n",
            "Nvidia Corporation ( en-VID-ee-ə) is an American multinational corporation and technology company headquartered in Santa Clara, California, and incorporated in Delaware. Founded in 1993 by Jensen Huang (president and CEO), Chris Malachowsky, and Curtis Priem, it designs and supplies graphics processing units (GPUs), application programming interfaces (APIs) for data science and high-performance computing, and system on a chip units (SoCs) for mobile computing and the automotive market. Nvidia is also a leading supplier of artificial intelligence (AI) hardware and software. Nvidia outsources the manufacturing of the hardware it designs.\n",
            "Nvidia's professional line of GPUs are used for edge-to-cloud computing and in supercomputers and workstations for applications in fields such as architecture, engineering and construction, media and entertainment, automotive, scientific research, and manufacturing design. Its GeForce line of GPUs are aimed at the consumer market and are used in applications such as video editing, 3D rendering, and PC gaming. With a market share of 80.2% in the second quarter of 2023, Nvidia leads global sales of discrete desktop GPUs by a wide margin. The company expanded its presence in the gaming industry with the introduction of the Shield Portable (a handheld game console), Shield Tablet (a gaming tablet), and Shield TV (a digital media player), as well as its cloud gaming service GeForce Now.\n",
            "In addition to GPU design and outsourcing manufacturing, Nvidia provides the CUDA software platform and API that allows the creation of massively parallel programs which utilize GPUs. They are deployed in supercomputing sites around the world. In the late 2000s, Nvidia had moved into the mobile computing market, where it produced Tegra mobile processors for smartphones and tablets and vehicle navigation and entertainment systems. Its competitors include AMD, Intel, Qualcomm, and AI accelerator companies such as Cerebras and Graphcore. It also makes AI-powered software for audio and video processing (e.g., Nvidia Maxine).\n",
            "Nvidia's attempt to acquire Arm from SoftBank in September 2020 failed to materialize following extended regulatory scrutiny, leading to the termination of the deal in February 2022 in what would have been the largest semiconductor acquisition. In 2023, Nvidia became the seventh public U.S. company to be valued at over $1 trillion, and the company's valuation has increased rapidly since then amid growing demand for data center chips with AI capabilities in the midst of the AI boom. In June 2024, for one day, Nvidia overtook Microsoft as the world's most valuable publicly traded company, with a market capitalization of over $3.3 trillion.\n",
            "\n",
            "\n",
            "== History ==\n",
            "\n",
            "\n",
            "=== Founding ===\n",
            "\n",
            "Nvidia was founded on April 5, 1993, by Jensen Huang (who, as of 2025, remains CEO), a Taiwanese-American electrical engineer who was previously the director of CoreWare at LSI Logic and a microprocessor designer at AMD; Chris Malachowsky, an engineer who worked at Sun Microsystems; and Curtis Priem, who was previously a senior staff engineer and graphics chip designer at IBM and Sun Microsystems. In late 1992, the three men agreed to start the company in a meeting at a Denny's roadside diner on Berryessa Road in East San Jose. \n",
            "At the time, Malachowsky and Priem were frustrated with Sun's management and were looking to leave, but Huang was on \"firmer ground\", in that he was already running his own division at LSI. The three co-founders discussed a vision of the future which was so compelling that Huang decided to leave LSI and become the chief executive officer of their new startup.\n",
            "The three co-founders envisioned  graphics-based processing as the best trajectory for tackling challenges that had eluded general-purpose computing methods. As Huang later explained: \"We also observed that video games were simultaneously one of the most computationally challenging problems and would have incredibly high sales volume. Those two conditio\n",
            "</Document>\n",
            "\n",
            "---\n",
            "\n",
            "<Document source=\"https://en.wikipedia.org/wiki/Nintendo_Switch\" page=\"\"/>\n",
            "The Nintendo Switch is a  video game console developed by Nintendo and released worldwide in most regions on March 3, 2017. Released in the middle of the eighth generation of home consoles, the Switch succeeded the Wii U and competed with Sony's PlayStation 4 and Microsoft's Xbox One; it also competes with the ninth generation consoles, the PlayStation 5 and Xbox Series X/S.\n",
            "The Switch is a tablet that can either be docked for home console use or used as a portable device, making it a hybrid console. Its wireless Joy-Con controllers function as two halves of a standard controller and alternatively as individual controllers, featuring buttons, directional analog sticks for user input, motion sensing, and tactile feedback. A pair can attach to the sides of the console for handheld-style play, attach to a grip accessory to provide the form of a separated gamepad, or be used unattached. The Switch's system software supports online gaming through internet connectivity, as well as local wireless ad hoc connectivity with other consoles. Switch games and software are available on both physical flash-based ROM cartridges and digital distribution via Nintendo eShop; the system has no region lockout. Two hardware revisions were released: the handheld-only Switch Lite, released on September 20, 2019; and a higher-end version featuring an OLED screen, released on October 8, 2021.\n",
            "The Switch was unveiled on October 20, 2016; the concept came about as Nintendo's reaction to financial losses attributed to poor sales of the Wii U and market competition from mobile games. Nintendo's then-president Satoru Iwata pushed the company towards mobile gaming and novel hardware. The Switch's design was aimed at a wide demographic of players through multiple modes of use. Nintendo preemptively sought the support of many third-party developers and publishers, as well as independent studios, to help build the Switch's game library alongside its first-party games, while standard electronic components, such as a chipset based on Nvidia's Tegra line, were chosen to make development for the console easier for programmers and more compatible with existing game engines. \n",
            "Critical reception of the Switch was positive. The system received praise for its intuitive design and software library, with criticism directed toward hardware and controller issues. The Switch became a major commercial success, and has shipped over 150 million units worldwide as of December 2024, becoming the third-best selling console of all time behind the PlayStation 2 and Nintendo DS. It is also Nintendo's most successful home console to date, surpassing the original Wii's 101.6 million units.\n",
            "A direct successor, Nintendo Switch 2, which will be backward compatible with most Switch games, is scheduled for release on June 5, 2025.\n",
            "\n",
            "\n",
            "== History ==\n",
            "\n",
            "\n",
            "=== Background ===\n",
            "While Nintendo had record revenues, net sales, and profits in 2009 as a result of the release of the Nintendo DS and Wii in 2004 and 2006 respectively, its revenues soon declined. The company posted its first loss as a video game company in 2012 prior to the Wii U's introduction that year; Nintendo had similar losses in the following years, due to the console's poor reception. The New York Times attributed Nintendo lowering financial forecasts in 2014 to weak hardware sales against mobile gaming. Previously, the company was hesitant about this market, with then-president Satoru Iwata considering that they would \"cease to be Nintendo\" and lose their identity if they attempted to be a part of it. About three years prior to the Switch's announcement, Iwata, Tatsumi Kimishima, Genyo Takeda, and Shigeru Miyamoto crafted a strategy for revitalizing Nintendo's business model, which included approaching the mobile market, creating new hardware, and \"maximizing [their] intellectual property\". Iwata was able to secure a business alliance with Japanese mobile provider DeNA before his death. The deal developed mobile games based on Nintend\n",
            "</Document>\n",
            "XXXXXXXXXXXXXXXXXXXXXXXXXXXXXX\n",
            "\n",
            "\n",
            "\n",
            "\n",
            "The answer to the question:\n",
            "The provided context does not include specific information about Nvidia's Q2 2024 earnings. Therefore, I cannot provide details regarding their earnings for that quarter. For accurate and up-to-date financial information, including earnings reports, it is best to refer to Nvidia's official financial statements or credible financial news sources.\n",
            "\n",
            "Source of truth: The context provided does not include relevant earnings information.\n"
          ]
        }
      ],
      "source": [
        "# invoke the graph to send the question to the LLM\n",
        "# question is \"How were Nvidia's Q2 2024 earnings?\"\n",
        "# once you got it running feel free to invoke the\n",
        "# graph with your own question\n",
        "result = assistant.invoke({\"question\": \"How were Nvidia's Q2 2024 earnings?\"})\n",
        "\n",
        "# print the answer to the question\n",
        "print(\"\\nThe answer to the question:\")\n",
        "print(result['answer'].content)"
      ]
    },
    {
      "cell_type": "markdown",
      "id": "148f0a21-6fb2-483d-8ce9-f8e44faa09dc",
      "metadata": {
        "id": "148f0a21-6fb2-483d-8ce9-f8e44faa09dc"
      },
      "source": [
        "---"
      ]
    },
    {
      "cell_type": "code",
      "execution_count": 66,
      "id": "cc0369c4-4269-4744-8940-4ebcd96603ea",
      "metadata": {
        "id": "cc0369c4-4269-4744-8940-4ebcd96603ea"
      },
      "outputs": [],
      "source": []
    }
  ],
  "metadata": {
    "kernelspec": {
      "display_name": "Python 3 (ipykernel)",
      "language": "python",
      "name": "python3"
    },
    "language_info": {
      "codemirror_mode": {
        "name": "ipython",
        "version": 3
      },
      "file_extension": ".py",
      "mimetype": "text/x-python",
      "name": "python",
      "nbconvert_exporter": "python",
      "pygments_lexer": "ipython3",
      "version": "3.9.20"
    },
    "colab": {
      "provenance": []
    }
  },
  "nbformat": 4,
  "nbformat_minor": 5
}